{
 "cells": [
  {
   "cell_type": "markdown",
   "id": "fc1616ff-95cb-4bd6-a9ea-8241494e0a79",
   "metadata": {},
   "source": [
    "## A. An overview of the dataset\n",
    "==================================\n",
    "\n",
    "The objective of this task is to gain some general information about the dataset before starting your exploration journey. By the end of this task, you will know about the number of observations, the index and columns, the data types, and the missing observations in the dataset. These are necessary information to know about any dataset before jumping into data exploration.\n",
    "\n",
    "1.    Import the data as a Pandas DataFrame and name it as df.\n",
    "\n",
    "2.    Check the number of rows and columns.\n",
    "\n",
    "3.    Display the first few entries of the DataFrame.\n",
    "\n",
    "4.    Obtain the index labels, and then show the column names as a list.\n",
    "\n",
    "5.    Check the data type for each column.\n",
    "\n",
    "6.    Check if there are any missing values and show the rows that contain the missing values.\n",
    "\n",
    "7.    If necessary remove any observations to ensure that there are no missing values and the values in each column are of the same data type.\n"
   ]
  },
  {
   "cell_type": "markdown",
   "id": "903ae136-5e27-4ac7-a805-686b1b0c4624",
   "metadata": {},
   "source": [
    "A1.    Import the data as a Pandas DataFrame and name it as df.\n",
    "==============================================================="
   ]
  },
  {
   "cell_type": "code",
   "execution_count": 1,
   "id": "08c7d63e-72fa-481b-b598-fa76f505d59d",
   "metadata": {},
   "outputs": [],
   "source": [
    "import numpy as np\n",
    "import pandas as pd\n",
    "import seaborn as sns\n",
    "\n",
    "import matplotlib.pyplot as plt\n",
    "\n",
    "%matplotlib inline\n",
    "\n",
    "\n",
    "df = pd.read_csv(\"p1_communes.csv\")"
   ]
  },
  {
   "cell_type": "markdown",
   "id": "be487d71-9b60-44b6-acf0-40429ba1ee8f",
   "metadata": {},
   "source": [
    "A2    Check the number of rows and columns.\n",
    "==============================================="
   ]
  },
  {
   "cell_type": "code",
   "execution_count": 2,
   "id": "077918a1-c208-4c12-af8c-40a535263e17",
   "metadata": {},
   "outputs": [
    {
     "name": "stdout",
     "output_type": "stream",
     "text": [
      "dataframe has  2202 rows   17 columns  and \n"
     ]
    }
   ],
   "source": [
    "rows_nb = len(list(df.iterrows()))\n",
    "\n",
    "column_names = df.columns\n",
    "columns_nb =len(column_names)\n",
    "\n",
    "print(f\"dataframe has  {rows_nb} rows   {columns_nb} columns  and \")"
   ]
  },
  {
   "cell_type": "markdown",
   "id": "50c0c1b1-27fb-4335-b86f-81527b92c9f3",
   "metadata": {},
   "source": [
    "A3.    Display the first few entries of the DataFrame.\n",
    "==============================================="
   ]
  },
  {
   "cell_type": "code",
   "execution_count": 3,
   "id": "fcfa8646-1b8e-4880-a3de-d6c23adb87ac",
   "metadata": {},
   "outputs": [
    {
     "data": {
      "text/html": [
       "<div>\n",
       "<style scoped>\n",
       "    .dataframe tbody tr th:only-of-type {\n",
       "        vertical-align: middle;\n",
       "    }\n",
       "\n",
       "    .dataframe tbody tr th {\n",
       "        vertical-align: top;\n",
       "    }\n",
       "\n",
       "    .dataframe thead th {\n",
       "        text-align: right;\n",
       "    }\n",
       "</style>\n",
       "<table border=\"1\" class=\"dataframe\">\n",
       "  <thead>\n",
       "    <tr style=\"text-align: right;\">\n",
       "      <th></th>\n",
       "      <th>Canton</th>\n",
       "      <th>Commune</th>\n",
       "      <th>Language</th>\n",
       "      <th>Residents</th>\n",
       "      <th>Population density per km²</th>\n",
       "      <th>0-19 years</th>\n",
       "      <th>20-64 years</th>\n",
       "      <th>65 years or over</th>\n",
       "      <th>Private households</th>\n",
       "      <th>Surface area in km²</th>\n",
       "      <th>Settlement area</th>\n",
       "      <th>Agricultural area</th>\n",
       "      <th>Wooded area</th>\n",
       "      <th>Unproductive area</th>\n",
       "      <th>East coordinate</th>\n",
       "      <th>North coordinate</th>\n",
       "      <th>Elevation</th>\n",
       "    </tr>\n",
       "  </thead>\n",
       "  <tbody>\n",
       "    <tr>\n",
       "      <th>0</th>\n",
       "      <td>ZH</td>\n",
       "      <td>Aeugst am Albis</td>\n",
       "      <td>de</td>\n",
       "      <td>1982</td>\n",
       "      <td>250.568900</td>\n",
       "      <td>19.677094</td>\n",
       "      <td>62.764884</td>\n",
       "      <td>17.558022</td>\n",
       "      <td>835</td>\n",
       "      <td>7.91</td>\n",
       "      <td>12.658228</td>\n",
       "      <td>51.139241</td>\n",
       "      <td>30.886076</td>\n",
       "      <td>5.316456</td>\n",
       "      <td>2679300</td>\n",
       "      <td>1235700</td>\n",
       "      <td>673</td>\n",
       "    </tr>\n",
       "    <tr>\n",
       "      <th>1</th>\n",
       "      <td>ZH</td>\n",
       "      <td>Affoltern am Albis</td>\n",
       "      <td>de</td>\n",
       "      <td>12229</td>\n",
       "      <td>1154.768650</td>\n",
       "      <td>20.508627</td>\n",
       "      <td>61.329626</td>\n",
       "      <td>18.161747</td>\n",
       "      <td>5348</td>\n",
       "      <td>10.59</td>\n",
       "      <td>30.674264</td>\n",
       "      <td>40.170940</td>\n",
       "      <td>28.205128</td>\n",
       "      <td>0.949668</td>\n",
       "      <td>2676800</td>\n",
       "      <td>1236800</td>\n",
       "      <td>502</td>\n",
       "    </tr>\n",
       "    <tr>\n",
       "      <th>2</th>\n",
       "      <td>ZH</td>\n",
       "      <td>Bonstetten</td>\n",
       "      <td>de</td>\n",
       "      <td>5548</td>\n",
       "      <td>746.702557</td>\n",
       "      <td>23.666186</td>\n",
       "      <td>60.310022</td>\n",
       "      <td>16.023792</td>\n",
       "      <td>2325</td>\n",
       "      <td>7.43</td>\n",
       "      <td>15.456989</td>\n",
       "      <td>55.510753</td>\n",
       "      <td>28.629032</td>\n",
       "      <td>0.403226</td>\n",
       "      <td>2677800</td>\n",
       "      <td>1241000</td>\n",
       "      <td>583</td>\n",
       "    </tr>\n",
       "    <tr>\n",
       "      <th>3</th>\n",
       "      <td>ZH</td>\n",
       "      <td>Hausen am Albis</td>\n",
       "      <td>de</td>\n",
       "      <td>3701</td>\n",
       "      <td>272.132353</td>\n",
       "      <td>21.804918</td>\n",
       "      <td>60.686301</td>\n",
       "      <td>17.508781</td>\n",
       "      <td>1546</td>\n",
       "      <td>13.60</td>\n",
       "      <td>12.692590</td>\n",
       "      <td>55.906090</td>\n",
       "      <td>28.833456</td>\n",
       "      <td>2.567865</td>\n",
       "      <td>2682900</td>\n",
       "      <td>1233100</td>\n",
       "      <td>653</td>\n",
       "    </tr>\n",
       "    <tr>\n",
       "      <th>4</th>\n",
       "      <td>ZH</td>\n",
       "      <td>Hedingen</td>\n",
       "      <td>de</td>\n",
       "      <td>3734</td>\n",
       "      <td>571.822358</td>\n",
       "      <td>21.772898</td>\n",
       "      <td>61.756829</td>\n",
       "      <td>16.470273</td>\n",
       "      <td>1540</td>\n",
       "      <td>6.53</td>\n",
       "      <td>19.817073</td>\n",
       "      <td>46.341463</td>\n",
       "      <td>33.231707</td>\n",
       "      <td>0.609756</td>\n",
       "      <td>2676400</td>\n",
       "      <td>1239000</td>\n",
       "      <td>543</td>\n",
       "    </tr>\n",
       "    <tr>\n",
       "      <th>5</th>\n",
       "      <td>ZH</td>\n",
       "      <td>Kappel am Albis</td>\n",
       "      <td>de</td>\n",
       "      <td>1157</td>\n",
       "      <td>146.085859</td>\n",
       "      <td>25.237684</td>\n",
       "      <td>60.760588</td>\n",
       "      <td>14.001729</td>\n",
       "      <td>465</td>\n",
       "      <td>7.92</td>\n",
       "      <td>8.312020</td>\n",
       "      <td>69.948849</td>\n",
       "      <td>20.588235</td>\n",
       "      <td>1.150895</td>\n",
       "      <td>2682400</td>\n",
       "      <td>1231300</td>\n",
       "      <td>559</td>\n",
       "    </tr>\n",
       "    <tr>\n",
       "      <th>6</th>\n",
       "      <td>ZH</td>\n",
       "      <td>Knonau</td>\n",
       "      <td>de</td>\n",
       "      <td>2373</td>\n",
       "      <td>366.769706</td>\n",
       "      <td>23.893805</td>\n",
       "      <td>61.061947</td>\n",
       "      <td>15.044248</td>\n",
       "      <td>925</td>\n",
       "      <td>6.47</td>\n",
       "      <td>18.027735</td>\n",
       "      <td>62.249615</td>\n",
       "      <td>17.103236</td>\n",
       "      <td>2.619414</td>\n",
       "      <td>2677500</td>\n",
       "      <td>1230900</td>\n",
       "      <td>454</td>\n",
       "    </tr>\n",
       "    <tr>\n",
       "      <th>7</th>\n",
       "      <td>ZH</td>\n",
       "      <td>Maschwanden</td>\n",
       "      <td>de</td>\n",
       "      <td>656</td>\n",
       "      <td>139.872068</td>\n",
       "      <td>23.018293</td>\n",
       "      <td>59.756098</td>\n",
       "      <td>17.225610</td>\n",
       "      <td>272</td>\n",
       "      <td>4.69</td>\n",
       "      <td>8.974359</td>\n",
       "      <td>59.615385</td>\n",
       "      <td>23.717949</td>\n",
       "      <td>7.692308</td>\n",
       "      <td>2674800</td>\n",
       "      <td>1232000</td>\n",
       "      <td>410</td>\n",
       "    </tr>\n",
       "    <tr>\n",
       "      <th>8</th>\n",
       "      <td>ZH</td>\n",
       "      <td>Mettmenstetten</td>\n",
       "      <td>de</td>\n",
       "      <td>5094</td>\n",
       "      <td>390.943975</td>\n",
       "      <td>22.732627</td>\n",
       "      <td>59.776207</td>\n",
       "      <td>17.491166</td>\n",
       "      <td>2050</td>\n",
       "      <td>13.03</td>\n",
       "      <td>15.990819</td>\n",
       "      <td>64.269319</td>\n",
       "      <td>18.592196</td>\n",
       "      <td>1.147666</td>\n",
       "      <td>2677600</td>\n",
       "      <td>1233000</td>\n",
       "      <td>493</td>\n",
       "    </tr>\n",
       "    <tr>\n",
       "      <th>9</th>\n",
       "      <td>ZH</td>\n",
       "      <td>Obfelden</td>\n",
       "      <td>de</td>\n",
       "      <td>5599</td>\n",
       "      <td>742.572944</td>\n",
       "      <td>23.504197</td>\n",
       "      <td>59.778532</td>\n",
       "      <td>16.717271</td>\n",
       "      <td>2302</td>\n",
       "      <td>7.54</td>\n",
       "      <td>24.338624</td>\n",
       "      <td>49.074074</td>\n",
       "      <td>21.428571</td>\n",
       "      <td>5.158730</td>\n",
       "      <td>2675100</td>\n",
       "      <td>1235300</td>\n",
       "      <td>439</td>\n",
       "    </tr>\n",
       "  </tbody>\n",
       "</table>\n",
       "</div>"
      ],
      "text/plain": [
       "  Canton             Commune Language  Residents  Population density per km²  \\\n",
       "0     ZH     Aeugst am Albis       de       1982                  250.568900   \n",
       "1     ZH  Affoltern am Albis       de      12229                 1154.768650   \n",
       "2     ZH          Bonstetten       de       5548                  746.702557   \n",
       "3     ZH     Hausen am Albis       de       3701                  272.132353   \n",
       "4     ZH            Hedingen       de       3734                  571.822358   \n",
       "5     ZH     Kappel am Albis       de       1157                  146.085859   \n",
       "6     ZH              Knonau       de       2373                  366.769706   \n",
       "7     ZH         Maschwanden       de        656                  139.872068   \n",
       "8     ZH      Mettmenstetten       de       5094                  390.943975   \n",
       "9     ZH            Obfelden       de       5599                  742.572944   \n",
       "\n",
       "   0-19 years  20-64 years  65 years or over  Private households  \\\n",
       "0   19.677094    62.764884         17.558022                 835   \n",
       "1   20.508627    61.329626         18.161747                5348   \n",
       "2   23.666186    60.310022         16.023792                2325   \n",
       "3   21.804918    60.686301         17.508781                1546   \n",
       "4   21.772898    61.756829         16.470273                1540   \n",
       "5   25.237684    60.760588         14.001729                 465   \n",
       "6   23.893805    61.061947         15.044248                 925   \n",
       "7   23.018293    59.756098         17.225610                 272   \n",
       "8   22.732627    59.776207         17.491166                2050   \n",
       "9   23.504197    59.778532         16.717271                2302   \n",
       "\n",
       "   Surface area in km²  Settlement area  Agricultural area  Wooded area  \\\n",
       "0                 7.91        12.658228          51.139241    30.886076   \n",
       "1                10.59        30.674264          40.170940    28.205128   \n",
       "2                 7.43        15.456989          55.510753    28.629032   \n",
       "3                13.60        12.692590          55.906090    28.833456   \n",
       "4                 6.53        19.817073          46.341463    33.231707   \n",
       "5                 7.92         8.312020          69.948849    20.588235   \n",
       "6                 6.47        18.027735          62.249615    17.103236   \n",
       "7                 4.69         8.974359          59.615385    23.717949   \n",
       "8                13.03        15.990819          64.269319    18.592196   \n",
       "9                 7.54        24.338624          49.074074    21.428571   \n",
       "\n",
       "   Unproductive area  East coordinate  North coordinate  Elevation  \n",
       "0           5.316456          2679300           1235700        673  \n",
       "1           0.949668          2676800           1236800        502  \n",
       "2           0.403226          2677800           1241000        583  \n",
       "3           2.567865          2682900           1233100        653  \n",
       "4           0.609756          2676400           1239000        543  \n",
       "5           1.150895          2682400           1231300        559  \n",
       "6           2.619414          2677500           1230900        454  \n",
       "7           7.692308          2674800           1232000        410  \n",
       "8           1.147666          2677600           1233000        493  \n",
       "9           5.158730          2675100           1235300        439  "
      ]
     },
     "execution_count": 3,
     "metadata": {},
     "output_type": "execute_result"
    }
   ],
   "source": [
    "df.head(10)"
   ]
  },
  {
   "cell_type": "markdown",
   "id": "ec82c65c-081b-46bd-a6b1-a2b892c78bae",
   "metadata": {},
   "source": [
    "A4.    Obtain the index labels, and then show the column names as a list.\n",
    "========================================================================"
   ]
  },
  {
   "cell_type": "code",
   "execution_count": 4,
   "id": "68814218-49dd-4ccc-8431-f6acc37b036a",
   "metadata": {},
   "outputs": [
    {
     "name": "stdout",
     "output_type": "stream",
     "text": [
      " 0  -> Canton\n",
      " 1  -> Commune\n",
      " 2  -> Language\n",
      " 3  -> Residents\n",
      " 4  -> Population density per km²\n",
      " 5  -> 0-19 years\n",
      " 6  -> 20-64 years\n",
      " 7  -> 65 years or over\n",
      " 8  -> Private households\n",
      " 9  -> Surface area in km²\n",
      " 10  -> Settlement area\n",
      " 11  -> Agricultural area\n",
      " 12  -> Wooded area\n",
      " 13  -> Unproductive area\n",
      " 14  -> East coordinate\n",
      " 15  -> North coordinate\n",
      " 16  -> Elevation\n"
     ]
    }
   ],
   "source": [
    "list_column_names = list(column_names)\n",
    "\n",
    "for colname in list_column_names:\n",
    "    print(f\" {list_column_names.index(colname)}  -> {colname}\")"
   ]
  },
  {
   "cell_type": "code",
   "execution_count": 5,
   "id": "cc52b012-e7ae-4897-91b7-8d94d13f05fc",
   "metadata": {},
   "outputs": [
    {
     "name": "stdout",
     "output_type": "stream",
     "text": [
      "['Canton', 'Commune', 'Language', 'Residents', 'Population density per km²', '0-19 years', '20-64 years', '65 years or over', 'Private households', 'Surface area in km²', 'Settlement area', 'Agricultural area', 'Wooded area', 'Unproductive area', 'East coordinate', 'North coordinate', 'Elevation']\n"
     ]
    }
   ],
   "source": [
    "print(list_column_names)"
   ]
  },
  {
   "cell_type": "markdown",
   "id": "edce2e3e-41f1-4950-8bf4-4297b3e26ad6",
   "metadata": {},
   "source": [
    "A5.    Check the data type for each column.\n",
    "========================================================================"
   ]
  },
  {
   "cell_type": "code",
   "execution_count": 6,
   "id": "d78df649-a7eb-4d08-8edc-71a58f5d9763",
   "metadata": {},
   "outputs": [
    {
     "data": {
      "text/plain": [
       "Canton                         object\n",
       "Commune                        object\n",
       "Language                       object\n",
       "Residents                       int64\n",
       "Population density per km²    float64\n",
       "0-19 years                    float64\n",
       "20-64 years                   float64\n",
       "65 years or over              float64\n",
       "Private households              int64\n",
       "Surface area in km²           float64\n",
       "Settlement area               float64\n",
       "Agricultural area             float64\n",
       "Wooded area                   float64\n",
       "Unproductive area             float64\n",
       "East coordinate                 int64\n",
       "North coordinate                int64\n",
       "Elevation                       int64\n",
       "dtype: object"
      ]
     },
     "execution_count": 6,
     "metadata": {},
     "output_type": "execute_result"
    }
   ],
   "source": [
    "df.dtypes"
   ]
  },
  {
   "cell_type": "markdown",
   "id": "a911044c-4761-4670-8038-b5a4a53fdc18",
   "metadata": {},
   "source": [
    "A6.    Check if there are any missing values and show the rows that contain the missing values.\n",
    "========================================================================"
   ]
  },
  {
   "cell_type": "code",
   "execution_count": 7,
   "id": "848b2c2e-834e-4cec-b43a-c680dd6d317e",
   "metadata": {},
   "outputs": [
    {
     "data": {
      "text/plain": [
       "Canton                         3\n",
       "Commune                        0\n",
       "Language                      11\n",
       "Residents                      0\n",
       "Population density per km²     0\n",
       "0-19 years                     0\n",
       "20-64 years                    0\n",
       "65 years or over               0\n",
       "Private households             0\n",
       "Surface area in km²            0\n",
       "Settlement area                0\n",
       "Agricultural area              0\n",
       "Wooded area                    0\n",
       "Unproductive area              0\n",
       "East coordinate                0\n",
       "North coordinate               0\n",
       "Elevation                      0\n",
       "dtype: int64"
      ]
     },
     "execution_count": 7,
     "metadata": {},
     "output_type": "execute_result"
    }
   ],
   "source": [
    "df.isna().sum()"
   ]
  },
  {
   "cell_type": "code",
   "execution_count": 8,
   "id": "8098a989-e232-4dba-a9c3-26bc1c33898b",
   "metadata": {},
   "outputs": [
    {
     "data": {
      "text/html": [
       "<div>\n",
       "<style scoped>\n",
       "    .dataframe tbody tr th:only-of-type {\n",
       "        vertical-align: middle;\n",
       "    }\n",
       "\n",
       "    .dataframe tbody tr th {\n",
       "        vertical-align: top;\n",
       "    }\n",
       "\n",
       "    .dataframe thead th {\n",
       "        text-align: right;\n",
       "    }\n",
       "</style>\n",
       "<table border=\"1\" class=\"dataframe\">\n",
       "  <thead>\n",
       "    <tr style=\"text-align: right;\">\n",
       "      <th></th>\n",
       "      <th>Canton</th>\n",
       "      <th>Commune</th>\n",
       "      <th>Language</th>\n",
       "      <th>Residents</th>\n",
       "      <th>Population density per km²</th>\n",
       "      <th>0-19 years</th>\n",
       "      <th>20-64 years</th>\n",
       "      <th>65 years or over</th>\n",
       "      <th>Private households</th>\n",
       "      <th>Surface area in km²</th>\n",
       "      <th>Settlement area</th>\n",
       "      <th>Agricultural area</th>\n",
       "      <th>Wooded area</th>\n",
       "      <th>Unproductive area</th>\n",
       "      <th>East coordinate</th>\n",
       "      <th>North coordinate</th>\n",
       "      <th>Elevation</th>\n",
       "    </tr>\n",
       "  </thead>\n",
       "  <tbody>\n",
       "    <tr>\n",
       "      <th>440</th>\n",
       "      <td>NaN</td>\n",
       "      <td>Thurnen</td>\n",
       "      <td>NaN</td>\n",
       "      <td>1922</td>\n",
       "      <td>323.025210</td>\n",
       "      <td>20.759625</td>\n",
       "      <td>58.324662</td>\n",
       "      <td>20.915713</td>\n",
       "      <td>814</td>\n",
       "      <td>5.95</td>\n",
       "      <td>13.949580</td>\n",
       "      <td>79.159664</td>\n",
       "      <td>6.050420</td>\n",
       "      <td>0.840336</td>\n",
       "      <td>2605300</td>\n",
       "      <td>1184700</td>\n",
       "      <td>558</td>\n",
       "    </tr>\n",
       "    <tr>\n",
       "      <th>704</th>\n",
       "      <td>NaN</td>\n",
       "      <td>Villaz</td>\n",
       "      <td>NaN</td>\n",
       "      <td>2287</td>\n",
       "      <td>148.217758</td>\n",
       "      <td>24.398776</td>\n",
       "      <td>61.346742</td>\n",
       "      <td>14.254482</td>\n",
       "      <td>897</td>\n",
       "      <td>15.44</td>\n",
       "      <td>8.808290</td>\n",
       "      <td>70.336788</td>\n",
       "      <td>20.401554</td>\n",
       "      <td>0.453368</td>\n",
       "      <td>2563200</td>\n",
       "      <td>1174400</td>\n",
       "      <td>727</td>\n",
       "    </tr>\n",
       "    <tr>\n",
       "      <th>757</th>\n",
       "      <td>NaN</td>\n",
       "      <td>Prez</td>\n",
       "      <td>NaN</td>\n",
       "      <td>2236</td>\n",
       "      <td>139.401496</td>\n",
       "      <td>25.000000</td>\n",
       "      <td>61.672630</td>\n",
       "      <td>13.327370</td>\n",
       "      <td>839</td>\n",
       "      <td>16.04</td>\n",
       "      <td>6.924517</td>\n",
       "      <td>68.808484</td>\n",
       "      <td>23.268871</td>\n",
       "      <td>0.998129</td>\n",
       "      <td>2567700</td>\n",
       "      <td>1181700</td>\n",
       "      <td>651</td>\n",
       "    </tr>\n",
       "  </tbody>\n",
       "</table>\n",
       "</div>"
      ],
      "text/plain": [
       "    Canton  Commune Language  Residents  Population density per km²  \\\n",
       "440    NaN  Thurnen      NaN       1922                  323.025210   \n",
       "704    NaN   Villaz      NaN       2287                  148.217758   \n",
       "757    NaN     Prez      NaN       2236                  139.401496   \n",
       "\n",
       "     0-19 years  20-64 years  65 years or over  Private households  \\\n",
       "440   20.759625    58.324662         20.915713                 814   \n",
       "704   24.398776    61.346742         14.254482                 897   \n",
       "757   25.000000    61.672630         13.327370                 839   \n",
       "\n",
       "     Surface area in km²  Settlement area  Agricultural area  Wooded area  \\\n",
       "440                 5.95        13.949580          79.159664     6.050420   \n",
       "704                15.44         8.808290          70.336788    20.401554   \n",
       "757                16.04         6.924517          68.808484    23.268871   \n",
       "\n",
       "     Unproductive area  East coordinate  North coordinate  Elevation  \n",
       "440           0.840336          2605300           1184700        558  \n",
       "704           0.453368          2563200           1174400        727  \n",
       "757           0.998129          2567700           1181700        651  "
      ]
     },
     "execution_count": 8,
     "metadata": {},
     "output_type": "execute_result"
    }
   ],
   "source": [
    "df[df['Canton'].isna()]"
   ]
  },
  {
   "cell_type": "markdown",
   "id": "3a8ba21a-ba6e-4fe5-8074-155ebe6fc847",
   "metadata": {},
   "source": [
    "A7.    If necessary remove any observations to ensure that there are no missing values and the values in each column are of the same data type.\n",
    "========================================================================"
   ]
  },
  {
   "cell_type": "code",
   "execution_count": 9,
   "id": "a6b75bd1-b956-4e63-a8c3-80539423a7e6",
   "metadata": {},
   "outputs": [],
   "source": [
    "df.dropna(inplace = True)\n"
   ]
  },
  {
   "cell_type": "code",
   "execution_count": 10,
   "id": "3653a4d7-76d2-4897-a648-97fed3c182de",
   "metadata": {},
   "outputs": [
    {
     "name": "stdout",
     "output_type": "stream",
     "text": [
      "<class 'pandas.core.frame.DataFrame'>\n",
      "Int64Index: 2191 entries, 0 to 2201\n",
      "Data columns (total 17 columns):\n",
      " #   Column                      Non-Null Count  Dtype  \n",
      "---  ------                      --------------  -----  \n",
      " 0   Canton                      2191 non-null   object \n",
      " 1   Commune                     2191 non-null   object \n",
      " 2   Language                    2191 non-null   object \n",
      " 3   Residents                   2191 non-null   int64  \n",
      " 4   Population density per km²  2191 non-null   float64\n",
      " 5   0-19 years                  2191 non-null   float64\n",
      " 6   20-64 years                 2191 non-null   float64\n",
      " 7   65 years or over            2191 non-null   float64\n",
      " 8   Private households          2191 non-null   int64  \n",
      " 9   Surface area in km²         2191 non-null   float64\n",
      " 10  Settlement area             2191 non-null   float64\n",
      " 11  Agricultural area           2191 non-null   float64\n",
      " 12  Wooded area                 2191 non-null   float64\n",
      " 13  Unproductive area           2191 non-null   float64\n",
      " 14  East coordinate             2191 non-null   int64  \n",
      " 15  North coordinate            2191 non-null   int64  \n",
      " 16  Elevation                   2191 non-null   int64  \n",
      "dtypes: float64(9), int64(5), object(3)\n",
      "memory usage: 308.1+ KB\n"
     ]
    }
   ],
   "source": [
    "df.info()"
   ]
  },
  {
   "cell_type": "markdown",
   "id": "6704b125-d4be-4989-9cb1-dd31975cedb6",
   "metadata": {},
   "source": [
    "## B. Exploration: numerical summaries, indexing and grouping\n",
    "\n",
    "\n",
    "Now that you are familiar with the general structure of the dataset, you can start an exploration adventure! Data exploration or explanatory data analysis enables you to tell a story with the data. It can be done in several ways depending on the objective and data types. In this task, you use your data summarization and aggregation skills to explore the data.\n",
    "\n",
    "1.    Obtain the mean, minimum and maximum value for each column containing numerical data. Your output should preferably show only the three requested statistics and not the full table of descriptive statistics.\n",
    "\n",
    "2.    List the 10 most populated communes, ordered by their number of residents.\n",
    "\n",
    "3.    List the 10 least populated communes, ordered by their number of residents.\n",
    "\n",
    "4.    Group the communes by canton and save them into separate .csv files, e.g. a ZH.csv with all the data for communes in Zurich (Do not include the .csv files in your submission).\n",
    "\n",
    "5.    Compute the mean population density for each canton and rank the cantons from most dense to least dense.\n",
    "\n",
    "6.    Compute the number of communes in each canton where more than 50 percent of their populations are aged between 20 and 64 years old.\n",
    "\n",
    "7.    Compute the difference between the maximum and minimum elevations for each canton. Find the top 5 cantons that have the largest range of elevations?\n"
   ]
  },
  {
   "cell_type": "markdown",
   "id": "6965ff3a-90a2-4ef1-a7f8-1b5627be3914",
   "metadata": {},
   "source": [
    "B1.    Obtain the mean, minimum and maximum value for each column containing numerical data. Your output should preferably show only the three requested statistics and not the full table of descriptive statistics.\n",
    "=================================================================================================================================================="
   ]
  },
  {
   "cell_type": "code",
   "execution_count": 11,
   "id": "c7423ea2-1132-4439-a35a-2060e965d4f3",
   "metadata": {},
   "outputs": [
    {
     "data": {
      "text/html": [
       "<div>\n",
       "<style scoped>\n",
       "    .dataframe tbody tr th:only-of-type {\n",
       "        vertical-align: middle;\n",
       "    }\n",
       "\n",
       "    .dataframe tbody tr th {\n",
       "        vertical-align: top;\n",
       "    }\n",
       "\n",
       "    .dataframe thead th {\n",
       "        text-align: right;\n",
       "    }\n",
       "</style>\n",
       "<table border=\"1\" class=\"dataframe\">\n",
       "  <thead>\n",
       "    <tr style=\"text-align: right;\">\n",
       "      <th></th>\n",
       "      <th>Residents</th>\n",
       "      <th>Population density per km²</th>\n",
       "      <th>0-19 years</th>\n",
       "      <th>20-64 years</th>\n",
       "      <th>65 years or over</th>\n",
       "      <th>Private households</th>\n",
       "      <th>Surface area in km²</th>\n",
       "      <th>Settlement area</th>\n",
       "      <th>Agricultural area</th>\n",
       "      <th>Wooded area</th>\n",
       "      <th>Unproductive area</th>\n",
       "      <th>East coordinate</th>\n",
       "      <th>North coordinate</th>\n",
       "      <th>Elevation</th>\n",
       "    </tr>\n",
       "  </thead>\n",
       "  <tbody>\n",
       "    <tr>\n",
       "      <th>min</th>\n",
       "      <td>11.000000</td>\n",
       "      <td>0.895037</td>\n",
       "      <td>0.000000</td>\n",
       "      <td>18.181818</td>\n",
       "      <td>6.271186</td>\n",
       "      <td>10.000000</td>\n",
       "      <td>0.31000</td>\n",
       "      <td>0.138897</td>\n",
       "      <td>0.000000</td>\n",
       "      <td>0.000000</td>\n",
       "      <td>0.000000</td>\n",
       "      <td>2.486700e+06</td>\n",
       "      <td>1.077200e+06</td>\n",
       "      <td>200.000000</td>\n",
       "    </tr>\n",
       "    <tr>\n",
       "      <th>max</th>\n",
       "      <td>415367.000000</td>\n",
       "      <td>12669.052100</td>\n",
       "      <td>37.777778</td>\n",
       "      <td>77.922078</td>\n",
       "      <td>81.818182</td>\n",
       "      <td>201252.000000</td>\n",
       "      <td>438.63000</td>\n",
       "      <td>97.260274</td>\n",
       "      <td>91.509434</td>\n",
       "      <td>88.235294</td>\n",
       "      <td>95.022860</td>\n",
       "      <td>2.828800e+06</td>\n",
       "      <td>1.294100e+06</td>\n",
       "      <td>3080.000000</td>\n",
       "    </tr>\n",
       "    <tr>\n",
       "      <th>mean</th>\n",
       "      <td>3865.299863</td>\n",
       "      <td>433.424048</td>\n",
       "      <td>20.585167</td>\n",
       "      <td>60.371180</td>\n",
       "      <td>19.043653</td>\n",
       "      <td>1702.485167</td>\n",
       "      <td>17.97283</td>\n",
       "      <td>14.882541</td>\n",
       "      <td>45.929853</td>\n",
       "      <td>32.575829</td>\n",
       "      <td>6.611777</td>\n",
       "      <td>2.631543e+06</td>\n",
       "      <td>1.202302e+06</td>\n",
       "      <td>768.209493</td>\n",
       "    </tr>\n",
       "  </tbody>\n",
       "</table>\n",
       "</div>"
      ],
      "text/plain": [
       "          Residents  Population density per km²  0-19 years  20-64 years  \\\n",
       "min       11.000000                    0.895037    0.000000    18.181818   \n",
       "max   415367.000000                12669.052100   37.777778    77.922078   \n",
       "mean    3865.299863                  433.424048   20.585167    60.371180   \n",
       "\n",
       "      65 years or over  Private households  Surface area in km²  \\\n",
       "min           6.271186           10.000000              0.31000   \n",
       "max          81.818182       201252.000000            438.63000   \n",
       "mean         19.043653         1702.485167             17.97283   \n",
       "\n",
       "      Settlement area  Agricultural area  Wooded area  Unproductive area  \\\n",
       "min          0.138897           0.000000     0.000000           0.000000   \n",
       "max         97.260274          91.509434    88.235294          95.022860   \n",
       "mean        14.882541          45.929853    32.575829           6.611777   \n",
       "\n",
       "      East coordinate  North coordinate    Elevation  \n",
       "min      2.486700e+06      1.077200e+06   200.000000  \n",
       "max      2.828800e+06      1.294100e+06  3080.000000  \n",
       "mean     2.631543e+06      1.202302e+06   768.209493  "
      ]
     },
     "execution_count": 11,
     "metadata": {},
     "output_type": "execute_result"
    }
   ],
   "source": [
    "min_max_mean = df.describe().loc[['min', 'max', 'mean']]\n",
    "\n",
    "min_max_mean"
   ]
  },
  {
   "cell_type": "markdown",
   "id": "e11b17d2-693d-41a2-8290-b3002da899ff",
   "metadata": {},
   "source": [
    "B2.    List the 10 most populated communes, ordered by their number of residents.\n",
    "=================================================================================================================================================="
   ]
  },
  {
   "cell_type": "code",
   "execution_count": 12,
   "id": "bf8884f9-c590-49ce-806b-2ba899433b21",
   "metadata": {},
   "outputs": [],
   "source": [
    "most_populated = df['Residents'].nlargest(n=10)\n",
    "\n",
    "most_populated_cities_short = df.loc[most_populated.index, [\"Commune\", \"Residents\"]]"
   ]
  },
  {
   "cell_type": "code",
   "execution_count": 13,
   "id": "ca2785ff-33b6-48df-9a89-849bebb27c9a",
   "metadata": {},
   "outputs": [
    {
     "data": {
      "text/html": [
       "<div>\n",
       "<style scoped>\n",
       "    .dataframe tbody tr th:only-of-type {\n",
       "        vertical-align: middle;\n",
       "    }\n",
       "\n",
       "    .dataframe tbody tr th {\n",
       "        vertical-align: top;\n",
       "    }\n",
       "\n",
       "    .dataframe thead th {\n",
       "        text-align: right;\n",
       "    }\n",
       "</style>\n",
       "<table border=\"1\" class=\"dataframe\">\n",
       "  <thead>\n",
       "    <tr style=\"text-align: right;\">\n",
       "      <th></th>\n",
       "      <th>Commune</th>\n",
       "      <th>Residents</th>\n",
       "    </tr>\n",
       "  </thead>\n",
       "  <tbody>\n",
       "    <tr>\n",
       "      <th>154</th>\n",
       "      <td>Zürich</td>\n",
       "      <td>415367</td>\n",
       "    </tr>\n",
       "    <tr>\n",
       "      <th>2124</th>\n",
       "      <td>Genève</td>\n",
       "      <td>201818</td>\n",
       "    </tr>\n",
       "    <tr>\n",
       "      <th>910</th>\n",
       "      <td>Basel</td>\n",
       "      <td>172258</td>\n",
       "    </tr>\n",
       "    <tr>\n",
       "      <th>1749</th>\n",
       "      <td>Lausanne</td>\n",
       "      <td>139111</td>\n",
       "    </tr>\n",
       "    <tr>\n",
       "      <th>194</th>\n",
       "      <td>Bern</td>\n",
       "      <td>133883</td>\n",
       "    </tr>\n",
       "    <tr>\n",
       "      <th>141</th>\n",
       "      <td>Winterthur</td>\n",
       "      <td>111851</td>\n",
       "    </tr>\n",
       "    <tr>\n",
       "      <th>535</th>\n",
       "      <td>Luzern</td>\n",
       "      <td>81691</td>\n",
       "    </tr>\n",
       "    <tr>\n",
       "      <th>1053</th>\n",
       "      <td>St. Gallen</td>\n",
       "      <td>75833</td>\n",
       "    </tr>\n",
       "    <tr>\n",
       "      <th>1582</th>\n",
       "      <td>Lugano</td>\n",
       "      <td>63185</td>\n",
       "    </tr>\n",
       "    <tr>\n",
       "      <th>207</th>\n",
       "      <td>Biel/Bienne</td>\n",
       "      <td>55159</td>\n",
       "    </tr>\n",
       "  </tbody>\n",
       "</table>\n",
       "</div>"
      ],
      "text/plain": [
       "          Commune  Residents\n",
       "154        Zürich     415367\n",
       "2124       Genève     201818\n",
       "910         Basel     172258\n",
       "1749     Lausanne     139111\n",
       "194          Bern     133883\n",
       "141    Winterthur     111851\n",
       "535        Luzern      81691\n",
       "1053   St. Gallen      75833\n",
       "1582       Lugano      63185\n",
       "207   Biel/Bienne      55159"
      ]
     },
     "execution_count": 13,
     "metadata": {},
     "output_type": "execute_result"
    }
   ],
   "source": [
    "most_populated_cities_short"
   ]
  },
  {
   "cell_type": "code",
   "execution_count": 14,
   "id": "c8df4979-3e9a-4686-8e91-8e617527f2f1",
   "metadata": {},
   "outputs": [
    {
     "data": {
      "text/html": [
       "<div>\n",
       "<style scoped>\n",
       "    .dataframe tbody tr th:only-of-type {\n",
       "        vertical-align: middle;\n",
       "    }\n",
       "\n",
       "    .dataframe tbody tr th {\n",
       "        vertical-align: top;\n",
       "    }\n",
       "\n",
       "    .dataframe thead th {\n",
       "        text-align: right;\n",
       "    }\n",
       "</style>\n",
       "<table border=\"1\" class=\"dataframe\">\n",
       "  <thead>\n",
       "    <tr style=\"text-align: right;\">\n",
       "      <th></th>\n",
       "      <th>Commune</th>\n",
       "      <th>Residents</th>\n",
       "    </tr>\n",
       "  </thead>\n",
       "  <tbody>\n",
       "    <tr>\n",
       "      <th>207</th>\n",
       "      <td>Biel/Bienne</td>\n",
       "      <td>55159</td>\n",
       "    </tr>\n",
       "    <tr>\n",
       "      <th>1582</th>\n",
       "      <td>Lugano</td>\n",
       "      <td>63185</td>\n",
       "    </tr>\n",
       "    <tr>\n",
       "      <th>1053</th>\n",
       "      <td>St. Gallen</td>\n",
       "      <td>75833</td>\n",
       "    </tr>\n",
       "    <tr>\n",
       "      <th>535</th>\n",
       "      <td>Luzern</td>\n",
       "      <td>81691</td>\n",
       "    </tr>\n",
       "    <tr>\n",
       "      <th>141</th>\n",
       "      <td>Winterthur</td>\n",
       "      <td>111851</td>\n",
       "    </tr>\n",
       "    <tr>\n",
       "      <th>194</th>\n",
       "      <td>Bern</td>\n",
       "      <td>133883</td>\n",
       "    </tr>\n",
       "    <tr>\n",
       "      <th>1749</th>\n",
       "      <td>Lausanne</td>\n",
       "      <td>139111</td>\n",
       "    </tr>\n",
       "    <tr>\n",
       "      <th>910</th>\n",
       "      <td>Basel</td>\n",
       "      <td>172258</td>\n",
       "    </tr>\n",
       "    <tr>\n",
       "      <th>2124</th>\n",
       "      <td>Genève</td>\n",
       "      <td>201818</td>\n",
       "    </tr>\n",
       "    <tr>\n",
       "      <th>154</th>\n",
       "      <td>Zürich</td>\n",
       "      <td>415367</td>\n",
       "    </tr>\n",
       "  </tbody>\n",
       "</table>\n",
       "</div>"
      ],
      "text/plain": [
       "          Commune  Residents\n",
       "207   Biel/Bienne      55159\n",
       "1582       Lugano      63185\n",
       "1053   St. Gallen      75833\n",
       "535        Luzern      81691\n",
       "141    Winterthur     111851\n",
       "194          Bern     133883\n",
       "1749     Lausanne     139111\n",
       "910         Basel     172258\n",
       "2124       Genève     201818\n",
       "154        Zürich     415367"
      ]
     },
     "execution_count": 14,
     "metadata": {},
     "output_type": "execute_result"
    }
   ],
   "source": [
    "increasing_top_ten = most_populated_cities_short.iloc[::-1]\n",
    "\n",
    "increasing_top_ten"
   ]
  },
  {
   "cell_type": "code",
   "execution_count": 15,
   "id": "38558e79-44db-4fb5-95ac-fbe7b9ffe2cc",
   "metadata": {},
   "outputs": [
    {
     "data": {
      "text/plain": [
       "['Biel/Bienne',\n",
       " 'Lugano',\n",
       " 'St. Gallen',\n",
       " 'Luzern',\n",
       " 'Winterthur',\n",
       " 'Bern',\n",
       " 'Lausanne',\n",
       " 'Basel',\n",
       " 'Genève',\n",
       " 'Zürich']"
      ]
     },
     "execution_count": 15,
     "metadata": {},
     "output_type": "execute_result"
    }
   ],
   "source": [
    "list_increasing_top_ten = list(increasing_top_ten.Commune)\n",
    "\n",
    "list_increasing_top_ten"
   ]
  },
  {
   "cell_type": "markdown",
   "id": "e511d082-13b9-4f3b-b374-392c15941823",
   "metadata": {},
   "source": [
    "B3.    List the 10 least populated communes, ordered by their number of residents.\n",
    "==================================================================================="
   ]
  },
  {
   "cell_type": "code",
   "execution_count": 16,
   "id": "e0bf1994-9588-4b4b-a8cb-3309ffec77ed",
   "metadata": {},
   "outputs": [
    {
     "data": {
      "text/plain": [
       "Int64Index([1546, 875, 2011, 366, 370, 485, 1629, 342, 1160, 1627], dtype='int64')"
      ]
     },
     "execution_count": 16,
     "metadata": {},
     "output_type": "execute_result"
    }
   ],
   "source": [
    "least_populated = df['Residents'].nsmallest(n=10)\n",
    "\n",
    "least_populated.index"
   ]
  },
  {
   "cell_type": "code",
   "execution_count": 17,
   "id": "b01a5cba-648f-419f-b41e-314c49b7803b",
   "metadata": {},
   "outputs": [
    {
     "data": {
      "text/html": [
       "<div>\n",
       "<style scoped>\n",
       "    .dataframe tbody tr th:only-of-type {\n",
       "        vertical-align: middle;\n",
       "    }\n",
       "\n",
       "    .dataframe tbody tr th {\n",
       "        vertical-align: top;\n",
       "    }\n",
       "\n",
       "    .dataframe thead th {\n",
       "        text-align: right;\n",
       "    }\n",
       "</style>\n",
       "<table border=\"1\" class=\"dataframe\">\n",
       "  <thead>\n",
       "    <tr style=\"text-align: right;\">\n",
       "      <th></th>\n",
       "      <th>Commune</th>\n",
       "      <th>Residents</th>\n",
       "    </tr>\n",
       "  </thead>\n",
       "  <tbody>\n",
       "    <tr>\n",
       "      <th>1546</th>\n",
       "      <td>Corippo</td>\n",
       "      <td>11</td>\n",
       "    </tr>\n",
       "    <tr>\n",
       "      <th>875</th>\n",
       "      <td>Kammersrohr</td>\n",
       "      <td>28</td>\n",
       "    </tr>\n",
       "    <tr>\n",
       "      <th>2011</th>\n",
       "      <td>Bister</td>\n",
       "      <td>33</td>\n",
       "    </tr>\n",
       "    <tr>\n",
       "      <th>366</th>\n",
       "      <td>Schelten</td>\n",
       "      <td>36</td>\n",
       "    </tr>\n",
       "    <tr>\n",
       "      <th>370</th>\n",
       "      <td>Rebévelier</td>\n",
       "      <td>41</td>\n",
       "    </tr>\n",
       "    <tr>\n",
       "      <th>485</th>\n",
       "      <td>Berken</td>\n",
       "      <td>45</td>\n",
       "    </tr>\n",
       "    <tr>\n",
       "      <th>1629</th>\n",
       "      <td>Cerentino</td>\n",
       "      <td>45</td>\n",
       "    </tr>\n",
       "    <tr>\n",
       "      <th>342</th>\n",
       "      <td>Clavaleyres</td>\n",
       "      <td>46</td>\n",
       "    </tr>\n",
       "    <tr>\n",
       "      <th>1160</th>\n",
       "      <td>Lohn (GR)</td>\n",
       "      <td>46</td>\n",
       "    </tr>\n",
       "    <tr>\n",
       "      <th>1627</th>\n",
       "      <td>Bosco/Gurin</td>\n",
       "      <td>46</td>\n",
       "    </tr>\n",
       "  </tbody>\n",
       "</table>\n",
       "</div>"
      ],
      "text/plain": [
       "          Commune  Residents\n",
       "1546      Corippo         11\n",
       "875   Kammersrohr         28\n",
       "2011       Bister         33\n",
       "366      Schelten         36\n",
       "370    Rebévelier         41\n",
       "485        Berken         45\n",
       "1629    Cerentino         45\n",
       "342   Clavaleyres         46\n",
       "1160    Lohn (GR)         46\n",
       "1627  Bosco/Gurin         46"
      ]
     },
     "execution_count": 17,
     "metadata": {},
     "output_type": "execute_result"
    }
   ],
   "source": [
    "least_populated_cities_short = df.loc[least_populated.index, [\"Commune\", \"Residents\"]]\n",
    "least_populated_cities_short"
   ]
  },
  {
   "cell_type": "code",
   "execution_count": 18,
   "id": "8c75ab43-10fa-4253-bdcd-0923b8e810b3",
   "metadata": {},
   "outputs": [
    {
     "name": "stdout",
     "output_type": "stream",
     "text": [
      "['Corippo', 'Kammersrohr', 'Bister', 'Schelten', 'Rebévelier', 'Berken', 'Cerentino', 'Clavaleyres', 'Lohn (GR)', 'Bosco/Gurin']\n"
     ]
    }
   ],
   "source": [
    "list_increasing_least_pop_ten = list(least_populated_cities_short.Commune)\n",
    "\n",
    "print(list_increasing_least_pop_ten)"
   ]
  },
  {
   "cell_type": "markdown",
   "id": "52bc448d-7a77-4cda-bce6-e8585586284b",
   "metadata": {},
   "source": [
    "B4.    Group the communes by canton and save them into separate .csv files, e.g. a ZH.csv with all the data for communes in Zurich (Do not include the .csv files in your submission).\n",
    "==================================================================================================================================================================================="
   ]
  },
  {
   "cell_type": "code",
   "execution_count": 19,
   "id": "6bd22b80-4b8e-4002-8bd7-c74c014d8b67",
   "metadata": {},
   "outputs": [],
   "source": [
    "grouped_by_canton = df.groupby(['Canton'])"
   ]
  },
  {
   "cell_type": "code",
   "execution_count": 20,
   "id": "d9782137-a374-4792-9c72-e4113cb86e46",
   "metadata": {},
   "outputs": [],
   "source": [
    "for canton_name, canton_datas in grouped_by_canton:    \n",
    "    canton_datas.to_csv('{}.csv'.format(canton_name))"
   ]
  },
  {
   "cell_type": "markdown",
   "id": "63fc64a1-b6e0-4fb7-8e57-24229838bcea",
   "metadata": {},
   "source": [
    "B5.    Compute the mean population density for each canton and rank the cantons from most dense to least dense.\n",
    "================================================================================================================="
   ]
  },
  {
   "cell_type": "code",
   "execution_count": 21,
   "id": "59563f85-f733-4ce8-bba6-f95441d08925",
   "metadata": {},
   "outputs": [
    {
     "name": "stdout",
     "output_type": "stream",
     "text": [
      " AG has mean density 509.4345148993333 \n",
      " AI has mean density 120.671860285 \n",
      " AR has mean density 267.8941896445 \n",
      " BE has mean density 292.6781413380116 \n",
      " BL has mean density 565.7370210368606 \n",
      " BS has mean density 3236.6274582 \n",
      " FR has mean density 273.96997122320613 \n",
      " GE has mean density 1802.5627118199995 \n",
      " GL has mean density 89.22444035666666 \n",
      " GR has mean density 62.35224104061163 \n",
      " JU has mean density 87.17632941601883 \n",
      " LU has mean density 386.47825502414656 \n",
      " NE has mean density 424.7945991403333 \n",
      " NW has mean density 310.37648340181823 \n",
      " OW has mean density 80.27405391571428 \n",
      " SG has mean density 535.5104640094804 \n",
      " SH has mean density 221.78121428384608 \n",
      " SO has mean density 430.9993137760182 \n",
      " SZ has mean density 384.9741801212332 \n",
      " TG has mean density 395.556295839875 \n",
      " TI has mean density 644.134835409193 \n",
      " UR has mean density 95.55991509399999 \n",
      " VD has mean density 435.30049460155294 \n",
      " VS has mean density 144.6898831840318 \n",
      " ZG has mean density 709.8022614545455 \n",
      " ZH has mean density 814.0073803973419 \n",
      "\n",
      "\n",
      "  ----------- SORTING --------------------------\n",
      "\n",
      "  \n",
      " *** from most dense to least dense *** \n",
      "\n",
      " \n",
      " BS has mean density of 3236.6 \n",
      " GE has mean density of 1802.6 \n",
      " ZH has mean density of 814.0 \n",
      " ZG has mean density of 709.8 \n",
      " TI has mean density of 644.1 \n",
      " BL has mean density of 565.7 \n",
      " SG has mean density of 535.5 \n",
      " AG has mean density of 509.4 \n",
      " VD has mean density of 435.3 \n",
      " SO has mean density of 431.0 \n",
      " NE has mean density of 424.8 \n",
      " TG has mean density of 395.6 \n",
      " LU has mean density of 386.5 \n",
      " SZ has mean density of 385.0 \n",
      " NW has mean density of 310.4 \n",
      " BE has mean density of 292.7 \n",
      " FR has mean density of 274.0 \n",
      " AR has mean density of 267.9 \n",
      " SH has mean density of 221.8 \n",
      " VS has mean density of 144.7 \n",
      " AI has mean density of 120.7 \n",
      " UR has mean density of 95.6 \n",
      " GL has mean density of 89.2 \n",
      " JU has mean density of 87.2 \n",
      " OW has mean density of 80.3 \n",
      " GR has mean density of 62.4 \n"
     ]
    }
   ],
   "source": [
    "density_column_name = \"Population density per km²\"\n",
    "\n",
    "list_of_tuples = []\n",
    "\n",
    "for canton_name, canton_datas in grouped_by_canton:\n",
    "    mean_canton = canton_datas[density_column_name].mean()\n",
    "    print(f\" {canton_name} has mean density {mean_canton} \")\n",
    "    \n",
    "    rounded_mean_canton = round(mean_canton,1)\n",
    "    \n",
    "    new_tuple = tuple((canton_name, rounded_mean_canton,))\n",
    "    \n",
    "    list_of_tuples.append(new_tuple)\n",
    "\n",
    "print(\"\\n\\n  ----------- SORTING --------------------------\\n\\n  \")\n",
    "list_of_tuples.sort(key=lambda x: x[1], reverse = True)\n",
    "\n",
    "print(\" *** from most dense to least dense *** \\n\\n \")\n",
    "\n",
    "for rounded_mean_density in list_of_tuples:\n",
    "    print(f\" {rounded_mean_density[0]} has mean density of {rounded_mean_density[1]} \")"
   ]
  },
  {
   "cell_type": "markdown",
   "id": "b106abdc-ff0e-4ece-93be-849eb691cc93",
   "metadata": {},
   "source": [
    "B6.    Compute the number of communes in each canton where more than 50 percent of their populations are aged between 20 and 64 years old.\n",
    "============================================================================================================================================"
   ]
  },
  {
   "cell_type": "code",
   "execution_count": 22,
   "id": "35e7891a-d6c6-4783-b54d-89ed4a5e2ab0",
   "metadata": {},
   "outputs": [],
   "source": [
    "set_cantons = set(df.Canton)"
   ]
  },
  {
   "cell_type": "code",
   "execution_count": 23,
   "id": "5ded217f-c577-415d-ad7e-5f52c24f7194",
   "metadata": {},
   "outputs": [
    {
     "name": "stdout",
     "output_type": "stream",
     "text": [
      "{'TG': 0, 'VD': 0, 'GE': 0, 'AR': 0, 'SZ': 0, 'BS': 0, 'GR': 0, 'UR': 0, 'OW': 0, 'AI': 0, 'SG': 0, 'LU': 0, 'TI': 0, 'GL': 0, 'FR': 0, 'SO': 0, 'AG': 0, 'BL': 0, 'JU': 0, 'VS': 0, 'BE': 0, 'NE': 0, 'NW': 0, 'ZH': 0, 'ZG': 0, 'SH': 0}\n"
     ]
    }
   ],
   "source": [
    "init_value = 0\n",
    "canton_activcities = dict.fromkeys(set_cantons,init_value)\n",
    "print(canton_activcities)"
   ]
  },
  {
   "cell_type": "code",
   "execution_count": 24,
   "id": "579f405a-ac54-47d9-9aad-dae88f6c96d7",
   "metadata": {},
   "outputs": [
    {
     "name": "stdout",
     "output_type": "stream",
     "text": [
      "{'TG': 80, 'VD': 309, 'GE': 45, 'AR': 20, 'SZ': 29, 'BS': 3, 'GR': 100, 'UR': 20, 'OW': 7, 'AI': 6, 'SG': 77, 'LU': 82, 'TI': 113, 'GL': 3, 'FR': 131, 'SO': 109, 'AG': 210, 'BL': 86, 'JU': 53, 'VS': 124, 'BE': 339, 'NE': 30, 'NW': 11, 'ZH': 158, 'ZG': 11, 'SH': 26}\n"
     ]
    }
   ],
   "source": [
    "triplets = [(canton, commune, active) for canton, commune, active in zip(df['Canton'], df['Commune'], df['20-64 years'])]\n",
    "\n",
    "for trip in triplets:    \n",
    "    \n",
    "   if trip[2] > 50.0:\n",
    "    canton_activcities[trip[0]] += 1\n",
    "\n",
    "print(canton_activcities)"
   ]
  },
  {
   "cell_type": "code",
   "execution_count": 25,
   "id": "21d5f74c-44fb-4a43-8ee4-2888370a0bef",
   "metadata": {},
   "outputs": [
    {
     "data": {
      "text/html": [
       "<div>\n",
       "<style scoped>\n",
       "    .dataframe tbody tr th:only-of-type {\n",
       "        vertical-align: middle;\n",
       "    }\n",
       "\n",
       "    .dataframe tbody tr th {\n",
       "        vertical-align: top;\n",
       "    }\n",
       "\n",
       "    .dataframe thead th {\n",
       "        text-align: right;\n",
       "    }\n",
       "</style>\n",
       "<table border=\"1\" class=\"dataframe\">\n",
       "  <thead>\n",
       "    <tr style=\"text-align: right;\">\n",
       "      <th></th>\n",
       "      <th>Canton</th>\n",
       "      <th>Cities with &gt;50% 20-64 y.o.</th>\n",
       "    </tr>\n",
       "  </thead>\n",
       "  <tbody>\n",
       "    <tr>\n",
       "      <th>0</th>\n",
       "      <td>TG</td>\n",
       "      <td>80</td>\n",
       "    </tr>\n",
       "    <tr>\n",
       "      <th>1</th>\n",
       "      <td>VD</td>\n",
       "      <td>309</td>\n",
       "    </tr>\n",
       "    <tr>\n",
       "      <th>2</th>\n",
       "      <td>GE</td>\n",
       "      <td>45</td>\n",
       "    </tr>\n",
       "    <tr>\n",
       "      <th>3</th>\n",
       "      <td>AR</td>\n",
       "      <td>20</td>\n",
       "    </tr>\n",
       "    <tr>\n",
       "      <th>4</th>\n",
       "      <td>SZ</td>\n",
       "      <td>29</td>\n",
       "    </tr>\n",
       "    <tr>\n",
       "      <th>5</th>\n",
       "      <td>BS</td>\n",
       "      <td>3</td>\n",
       "    </tr>\n",
       "    <tr>\n",
       "      <th>6</th>\n",
       "      <td>GR</td>\n",
       "      <td>100</td>\n",
       "    </tr>\n",
       "    <tr>\n",
       "      <th>7</th>\n",
       "      <td>UR</td>\n",
       "      <td>20</td>\n",
       "    </tr>\n",
       "    <tr>\n",
       "      <th>8</th>\n",
       "      <td>OW</td>\n",
       "      <td>7</td>\n",
       "    </tr>\n",
       "    <tr>\n",
       "      <th>9</th>\n",
       "      <td>AI</td>\n",
       "      <td>6</td>\n",
       "    </tr>\n",
       "    <tr>\n",
       "      <th>10</th>\n",
       "      <td>SG</td>\n",
       "      <td>77</td>\n",
       "    </tr>\n",
       "    <tr>\n",
       "      <th>11</th>\n",
       "      <td>LU</td>\n",
       "      <td>82</td>\n",
       "    </tr>\n",
       "    <tr>\n",
       "      <th>12</th>\n",
       "      <td>TI</td>\n",
       "      <td>113</td>\n",
       "    </tr>\n",
       "    <tr>\n",
       "      <th>13</th>\n",
       "      <td>GL</td>\n",
       "      <td>3</td>\n",
       "    </tr>\n",
       "    <tr>\n",
       "      <th>14</th>\n",
       "      <td>FR</td>\n",
       "      <td>131</td>\n",
       "    </tr>\n",
       "    <tr>\n",
       "      <th>15</th>\n",
       "      <td>SO</td>\n",
       "      <td>109</td>\n",
       "    </tr>\n",
       "    <tr>\n",
       "      <th>16</th>\n",
       "      <td>AG</td>\n",
       "      <td>210</td>\n",
       "    </tr>\n",
       "    <tr>\n",
       "      <th>17</th>\n",
       "      <td>BL</td>\n",
       "      <td>86</td>\n",
       "    </tr>\n",
       "    <tr>\n",
       "      <th>18</th>\n",
       "      <td>JU</td>\n",
       "      <td>53</td>\n",
       "    </tr>\n",
       "    <tr>\n",
       "      <th>19</th>\n",
       "      <td>VS</td>\n",
       "      <td>124</td>\n",
       "    </tr>\n",
       "    <tr>\n",
       "      <th>20</th>\n",
       "      <td>BE</td>\n",
       "      <td>339</td>\n",
       "    </tr>\n",
       "    <tr>\n",
       "      <th>21</th>\n",
       "      <td>NE</td>\n",
       "      <td>30</td>\n",
       "    </tr>\n",
       "    <tr>\n",
       "      <th>22</th>\n",
       "      <td>NW</td>\n",
       "      <td>11</td>\n",
       "    </tr>\n",
       "    <tr>\n",
       "      <th>23</th>\n",
       "      <td>ZH</td>\n",
       "      <td>158</td>\n",
       "    </tr>\n",
       "    <tr>\n",
       "      <th>24</th>\n",
       "      <td>ZG</td>\n",
       "      <td>11</td>\n",
       "    </tr>\n",
       "    <tr>\n",
       "      <th>25</th>\n",
       "      <td>SH</td>\n",
       "      <td>26</td>\n",
       "    </tr>\n",
       "  </tbody>\n",
       "</table>\n",
       "</div>"
      ],
      "text/plain": [
       "   Canton  Cities with >50% 20-64 y.o.\n",
       "0      TG                           80\n",
       "1      VD                          309\n",
       "2      GE                           45\n",
       "3      AR                           20\n",
       "4      SZ                           29\n",
       "5      BS                            3\n",
       "6      GR                          100\n",
       "7      UR                           20\n",
       "8      OW                            7\n",
       "9      AI                            6\n",
       "10     SG                           77\n",
       "11     LU                           82\n",
       "12     TI                          113\n",
       "13     GL                            3\n",
       "14     FR                          131\n",
       "15     SO                          109\n",
       "16     AG                          210\n",
       "17     BL                           86\n",
       "18     JU                           53\n",
       "19     VS                          124\n",
       "20     BE                          339\n",
       "21     NE                           30\n",
       "22     NW                           11\n",
       "23     ZH                          158\n",
       "24     ZG                           11\n",
       "25     SH                           26"
      ]
     },
     "execution_count": 25,
     "metadata": {},
     "output_type": "execute_result"
    }
   ],
   "source": [
    "pd.DataFrame(canton_activcities.items(), columns=['Canton', 'Cities with >50% 20-64 y.o.'])"
   ]
  },
  {
   "cell_type": "markdown",
   "id": "ea6addb8-30b5-4dee-a6b9-d69b30dc410b",
   "metadata": {},
   "source": [
    "B7.    Compute the difference between the maximum and minimum elevations for each canton. Find the top 5 cantons that have the largest range of elevations?\n",
    "==============================================================================================================================================================="
   ]
  },
  {
   "cell_type": "code",
   "execution_count": 26,
   "id": "1644f4d5-f7ba-4973-928e-d78f57cf9366",
   "metadata": {},
   "outputs": [
    {
     "name": "stdout",
     "output_type": "stream",
     "text": [
      " canton_cities_elevation => {'TG': [0], 'VD': [0], 'GE': [0], 'AR': [0], 'SZ': [0], 'BS': [0], 'GR': [0], 'UR': [0], 'OW': [0], 'AI': [0], 'SG': [0], 'LU': [0], 'TI': [0], 'GL': [0], 'FR': [0], 'SO': [0], 'AG': [0], 'BL': [0], 'JU': [0], 'VS': [0], 'BE': [0], 'NE': [0], 'NW': [0], 'ZH': [0], 'ZG': [0], 'SH': [0]}    type <class 'dict'>\n"
     ]
    }
   ],
   "source": [
    "init_value = [0]\n",
    "canton_cities_elevation = dict.fromkeys(set_cantons,init_value)\n",
    "print(f\" canton_cities_elevation => {canton_cities_elevation}    type {type(canton_cities_elevation)}\")  "
   ]
  },
  {
   "cell_type": "code",
   "execution_count": 27,
   "id": "d5062e2a-0524-4714-ae18-12d8ed97c74e",
   "metadata": {},
   "outputs": [
    {
     "data": {
      "text/html": [
       "<div>\n",
       "<style scoped>\n",
       "    .dataframe tbody tr th:only-of-type {\n",
       "        vertical-align: middle;\n",
       "    }\n",
       "\n",
       "    .dataframe tbody tr th {\n",
       "        vertical-align: top;\n",
       "    }\n",
       "\n",
       "    .dataframe thead th {\n",
       "        text-align: right;\n",
       "    }\n",
       "</style>\n",
       "<table border=\"1\" class=\"dataframe\">\n",
       "  <thead>\n",
       "    <tr style=\"text-align: right;\">\n",
       "      <th></th>\n",
       "      <th>Elevation</th>\n",
       "      <th>Commune</th>\n",
       "      <th>Canton</th>\n",
       "    </tr>\n",
       "  </thead>\n",
       "  <tbody>\n",
       "    <tr>\n",
       "      <th>0</th>\n",
       "      <td>673</td>\n",
       "      <td>Aeugst am Albis</td>\n",
       "      <td>ZH</td>\n",
       "    </tr>\n",
       "    <tr>\n",
       "      <th>1</th>\n",
       "      <td>502</td>\n",
       "      <td>Affoltern am Albis</td>\n",
       "      <td>ZH</td>\n",
       "    </tr>\n",
       "    <tr>\n",
       "      <th>2</th>\n",
       "      <td>583</td>\n",
       "      <td>Bonstetten</td>\n",
       "      <td>ZH</td>\n",
       "    </tr>\n",
       "    <tr>\n",
       "      <th>3</th>\n",
       "      <td>653</td>\n",
       "      <td>Hausen am Albis</td>\n",
       "      <td>ZH</td>\n",
       "    </tr>\n",
       "    <tr>\n",
       "      <th>4</th>\n",
       "      <td>543</td>\n",
       "      <td>Hedingen</td>\n",
       "      <td>ZH</td>\n",
       "    </tr>\n",
       "    <tr>\n",
       "      <th>...</th>\n",
       "      <td>...</td>\n",
       "      <td>...</td>\n",
       "      <td>...</td>\n",
       "    </tr>\n",
       "    <tr>\n",
       "      <th>2197</th>\n",
       "      <td>471</td>\n",
       "      <td>Vendlincourt</td>\n",
       "      <td>JU</td>\n",
       "    </tr>\n",
       "    <tr>\n",
       "      <th>2198</th>\n",
       "      <td>456</td>\n",
       "      <td>Basse-Allaine</td>\n",
       "      <td>JU</td>\n",
       "    </tr>\n",
       "    <tr>\n",
       "      <th>2199</th>\n",
       "      <td>683</td>\n",
       "      <td>Clos du Doubs</td>\n",
       "      <td>JU</td>\n",
       "    </tr>\n",
       "    <tr>\n",
       "      <th>2200</th>\n",
       "      <td>592</td>\n",
       "      <td>Haute-Ajoie</td>\n",
       "      <td>JU</td>\n",
       "    </tr>\n",
       "    <tr>\n",
       "      <th>2201</th>\n",
       "      <td>615</td>\n",
       "      <td>La Baroche</td>\n",
       "      <td>JU</td>\n",
       "    </tr>\n",
       "  </tbody>\n",
       "</table>\n",
       "<p>2191 rows × 3 columns</p>\n",
       "</div>"
      ],
      "text/plain": [
       "      Elevation             Commune Canton\n",
       "0           673     Aeugst am Albis     ZH\n",
       "1           502  Affoltern am Albis     ZH\n",
       "2           583          Bonstetten     ZH\n",
       "3           653     Hausen am Albis     ZH\n",
       "4           543            Hedingen     ZH\n",
       "...         ...                 ...    ...\n",
       "2197        471        Vendlincourt     JU\n",
       "2198        456       Basse-Allaine     JU\n",
       "2199        683       Clos du Doubs     JU\n",
       "2200        592         Haute-Ajoie     JU\n",
       "2201        615          La Baroche     JU\n",
       "\n",
       "[2191 rows x 3 columns]"
      ]
     },
     "execution_count": 27,
     "metadata": {},
     "output_type": "execute_result"
    }
   ],
   "source": [
    "cool_df = df.filter(['Elevation','Commune','Canton'], axis=1)\n",
    "\n",
    "cool_df"
   ]
  },
  {
   "cell_type": "code",
   "execution_count": 28,
   "id": "794fb930-64a4-4c03-a519-fabbb87fd6b5",
   "metadata": {},
   "outputs": [
    {
     "name": "stdout",
     "output_type": "stream",
     "text": [
      "Maximum value of column  Elevation  and its corresponding row values:\n",
      " Elevation           3080\n",
      "Commune      Fieschertal\n",
      "Canton                VS\n",
      "Name: 1969, dtype: object\n"
     ]
    }
   ],
   "source": [
    "col = \"Elevation\"\n",
    "max_x = cool_df.loc[df[col].idxmax()]\n",
    "print(\"Maximum value of column \", col, \" and its corresponding row values:\\n\", max_x)"
   ]
  },
  {
   "cell_type": "code",
   "execution_count": 29,
   "id": "092a67e3-3f5f-4364-b467-ab78c377b95f",
   "metadata": {},
   "outputs": [
    {
     "name": "stdout",
     "output_type": "stream",
     "text": [
      "\n",
      "  AG  max_elev_canton 704  min_elev_canton 296  delta_elev_canton 408\n",
      "\n",
      "  AI  max_elev_canton 1280  min_elev_canton 848  delta_elev_canton 432\n",
      "\n",
      "  AR  max_elev_canton 1062  min_elev_canton 574  delta_elev_canton 488\n",
      "\n",
      "  BE  max_elev_canton 2446  min_elev_canton 421  delta_elev_canton 2025\n",
      "\n",
      "  BL  max_elev_canton 857  min_elev_canton 258  delta_elev_canton 599\n",
      "\n",
      "  BS  max_elev_canton 450  min_elev_canton 266  delta_elev_canton 184\n",
      "\n",
      "  FR  max_elev_canton 1420  min_elev_canton 432  delta_elev_canton 988\n",
      "\n",
      "  GE  max_elev_canton 482  min_elev_canton 366  delta_elev_canton 116\n",
      "\n",
      "  GL  max_elev_canton 1800  min_elev_canton 1213  delta_elev_canton 587\n",
      "\n",
      "  GR  max_elev_canton 2606  min_elev_canton 589  delta_elev_canton 2017\n",
      "\n",
      "  JU  max_elev_canton 1035  min_elev_canton 429  delta_elev_canton 606\n",
      "\n",
      "  LU  max_elev_canton 1364  min_elev_canton 420  delta_elev_canton 944\n",
      "\n",
      "  NE  max_elev_canton 1152  min_elev_canton 444  delta_elev_canton 708\n",
      "\n",
      "  NW  max_elev_canton 1512  min_elev_canton 502  delta_elev_canton 1010\n",
      "\n",
      "  OW  max_elev_canton 1745  min_elev_canton 1244  delta_elev_canton 501\n",
      "\n",
      "  SG  max_elev_canton 1829  min_elev_canton 400  delta_elev_canton 1429\n",
      "\n",
      "  SH  max_elev_canton 719  min_elev_canton 405  delta_elev_canton 314\n",
      "\n",
      "  SO  max_elev_canton 1022  min_elev_canton 347  delta_elev_canton 675\n",
      "\n",
      "  SZ  max_elev_canton 1684  min_elev_canton 413  delta_elev_canton 1271\n",
      "\n",
      "  TG  max_elev_canton 714  min_elev_canton 396  delta_elev_canton 318\n",
      "\n",
      "  TI  max_elev_canton 2244  min_elev_canton 200  delta_elev_canton 2044\n",
      "\n",
      "  UR  max_elev_canton 2413  min_elev_canton 542  delta_elev_canton 1871\n",
      "\n",
      "  VD  max_elev_canton 1666  min_elev_canton 374  delta_elev_canton 1292\n",
      "\n",
      "  VS  max_elev_canton 3080  min_elev_canton 470  delta_elev_canton 2610\n",
      "\n",
      "  ZG  max_elev_canton 958  min_elev_canton 398  delta_elev_canton 560\n",
      "\n",
      "  ZH  max_elev_canton 871  min_elev_canton 350  delta_elev_canton 521\n"
     ]
    }
   ],
   "source": [
    "list_of_tuples = []\n",
    "\n",
    "for canton_name, canton_datas in grouped_by_canton:\n",
    "    max_elev_canton = canton_datas[\"Elevation\"].max()\n",
    "    min_elev_canton = canton_datas[\"Elevation\"].min()\n",
    "    \n",
    "    delta_elev_canton = max_elev_canton - min_elev_canton    \n",
    "    print(\"\\n \",canton_name, \" max_elev_canton\", max_elev_canton,\" min_elev_canton\", min_elev_canton,\" delta_elev_canton\", delta_elev_canton,)\n",
    "    \n",
    "    new_tuple = tuple((canton_name, delta_elev_canton,))    \n",
    "    list_of_tuples.append(new_tuple)"
   ]
  },
  {
   "cell_type": "code",
   "execution_count": 30,
   "id": "863cacda-0943-4fe0-a7f2-f32837140079",
   "metadata": {},
   "outputs": [
    {
     "name": "stdout",
     "output_type": "stream",
     "text": [
      " *** from most elevation to least elevation *** \n",
      "\n",
      " VS has delta_elevation of 2610 meters\n",
      "\n",
      " TI has delta_elevation of 2044 meters\n",
      "\n",
      " BE has delta_elevation of 2025 meters\n",
      "\n",
      " GR has delta_elevation of 2017 meters\n",
      "\n",
      " UR has delta_elevation of 1871 meters\n"
     ]
    }
   ],
   "source": [
    "list_of_tuples.sort(key=lambda x: x[1], reverse = True)\n",
    "print(\" *** from most elevation to least elevation *** \")\n",
    "\n",
    "top_five_delta_elev = list_of_tuples[:5]\n",
    "for delta_elevation_canton in top_five_delta_elev:\n",
    "    print(f\"\\n {delta_elevation_canton[0]} has delta_elevation of {delta_elevation_canton[1]} meters\")"
   ]
  },
  {
   "cell_type": "markdown",
   "id": "4a59f0b7-77c8-4426-9675-71615a71ffed",
   "metadata": {},
   "source": [
    "## C. Exploration: visualizations\n",
    "\n",
    "Let’s continue the explanatory data analysis but this time with visualizations. Visual exploration is a powerful way to learn about the distributions and the relationship between columns\n",
    "and add them to your story. In this task, you use your data visualization skills to explore the data.\n",
    "\n",
    "1.Your task is to obtain a horizontal bar plot that shows the top 10 populated communes. Your bar chart should have the names of the communes listed vertically along the y\n",
    "\n",
    "-axis and the x\n",
    "\n",
    "-axis should show the populations. Ensure that the chart has an appropriate title and labels.\n",
    "\n",
    "2.For the top 10 populated communes of the previous step, your task now is to plot a horizontal stacked bar chart that shows how their lands are divided into the 4 area types: Settlement, Agricultural, Wooded, Unproductive. Remember that these 4 area types represent the percentages and should add up to 100 for each commune. Ensure that the chart has an appropriate title, legend and labels. Your output should look like the following plot.\n",
    "\n",
    "\n",
    "\n",
    "3.We are interested in the number of communes and their proportions of young residents (0-19yrs). Your task is to obtain a histogram that shows the number of communes for which this proportion falls into the following intervals:\n",
    "\n",
    "    5%-10%\n",
    "    10%-15%\n",
    "    15%-20%\n",
    "    20%-25%\n",
    "    25%-30%\n",
    "\n",
    "    30%-35%\n",
    "\n",
    "    Ensure that the chart has an appropriate title and labels, and has width of 5 and height of 4. Hint: you can use the figsize to adjust the size. And you can specify the boundaries of the intervals by feeding a list to the bins parameter in the hist-method.\n",
    "\n",
    "4.Your task is to investigate the distributions of the age group 0-19 years, which is a numerical variable, across four language regions, which is a categorical variable. Hint: you can choose from Seaborn one of the violin plot, box plot or boxen plot for this purpose.\n",
    "\n",
    "5.Your task is to do the previous task for the three age groups 0-19 years, 20-64 years, and 65 years or over. In order to make the comparison easy, you should make a plot with one subplot per age group (plot with 1 row and 3 columns). Ensure that the subplots have appropriate titles, legends, and labels. Also, ensure that they have proper sizes and there is enough space between them.\n",
    "\n",
    "    The y\n",
    "\n",
    "    -axis of the subplot should show the percentages of the populations for age groups, ranging from 0 to 80%. Hint: you can use sharey parameter of the subplot.\n",
    "    Optional: add the observations into your subplot to see how they form the distributions. For instance, if you chose the box plot, you can draw a strip plot on the same axis as a complement to the box plot.\n",
    "\n",
    "6.Your task is to use the pairplot from Seaborn and produce 3 plots to visually investigate the relation between the Agricultural area of communes and their Settlement area, Wooded area and the Unproductive area.\n",
    "\n",
    "    Are the relations linear?\n",
    "    Use the Elevation as the color-code variable in the plot and show that communes that are located in high altitudes have very low Settlement and Agricultural areas, but have a lot of Unproductive areas.\n",
    "\n",
    "7.Your task is to draw a map of Switzerland using the East and North coordinates of communes. Ensure that the plot has an appropriate title, legend and labels. Hint: you can use the Seaborn scatter plot for this task.\n",
    "\n",
    "    Use the Elevation as the color-code variable in the plot so that the you can see the three geographic regions, namely the Swiss Alps, the Central Plateau and the Jura. Your output should look like the following plot.\n",
    "    Re-do the same plot but this time with the Language as the color-code variable.\n",
    "\n",
    "8.Your task is to obtain the two plots from the previous task as subplots (with 1 row and 2 columns). Ensure that the plots have appropriate titles, legends and labels. Also, ensure that they have proper sizes and there is enough space between them.\n",
    "\n"
   ]
  },
  {
   "cell_type": "markdown",
   "id": "a85c481c-f9ab-4202-8bca-3fd680bfa6a4",
   "metadata": {},
   "source": [
    "## C1.Your task is to obtain a horizontal bar plot that shows the top 10 populated communes. Your bar chart should have the names of the communes listed vertically along the y\n",
    "\n",
    "-axis and the x\n",
    "\n",
    "-axis should show the populations. Ensure that the chart has an appropriate title and labels."
   ]
  },
  {
   "cell_type": "code",
   "execution_count": 31,
   "id": "c802da92-1d2a-4422-aca2-127509e8bcda",
   "metadata": {},
   "outputs": [
    {
     "data": {
      "text/plain": [
       "Text(0.5, 1.0, 'top 10 populated communes')"
      ]
     },
     "execution_count": 31,
     "metadata": {},
     "output_type": "execute_result"
    },
    {
     "data": {
      "image/png": "[encoded data removed]",
      "text/plain": [
       "<Figure size 432x288 with 1 Axes>"
      ]
     },
     "metadata": {
      "needs_background": "light"
     },
     "output_type": "display_data"
    }
   ],
   "source": [
    "most_populated_cities_short.set_index(\"Commune\", inplace = True)\n",
    "#_____________________________\n",
    "top_ten_dessin = most_populated_cities_short.plot.barh(stacked=False)\n",
    "\n",
    "\n",
    "plt.legend(loc='upper left', bbox_to_anchor=(1.0, 0.5))\n",
    "\n",
    "plt.ylabel(\"Commune\")\n",
    "plt.xlabel(\"residents\")\n",
    "plt.title(\"top 10 populated communes\")"
   ]
  },
  {
   "cell_type": "markdown",
   "id": "58972458-0663-4400-a8fa-af93af502cc9",
   "metadata": {},
   "source": [
    "## C2.For the top 10 populated communes of the previous step, your task now is to plot a horizontal stacked bar chart that shows how their lands are divided into the 4 area types: Settlement, Agricultural, Wooded, Unproductive. Remember that these 4 area types represent the percentages and should add up to 100 for each commune. Ensure that the chart has an appropriate title, legend and labels. \n"
   ]
  },
  {
   "cell_type": "code",
   "execution_count": 32,
   "id": "6cbc7cdc-20c6-49b1-982d-9389332d497f",
   "metadata": {},
   "outputs": [
    {
     "data": {
      "text/html": [
       "<div>\n",
       "<style scoped>\n",
       "    .dataframe tbody tr th:only-of-type {\n",
       "        vertical-align: middle;\n",
       "    }\n",
       "\n",
       "    .dataframe tbody tr th {\n",
       "        vertical-align: top;\n",
       "    }\n",
       "\n",
       "    .dataframe thead th {\n",
       "        text-align: right;\n",
       "    }\n",
       "</style>\n",
       "<table border=\"1\" class=\"dataframe\">\n",
       "  <thead>\n",
       "    <tr style=\"text-align: right;\">\n",
       "      <th></th>\n",
       "      <th>Settlement area</th>\n",
       "      <th>Agricultural area</th>\n",
       "      <th>Wooded area</th>\n",
       "      <th>Unproductive area</th>\n",
       "    </tr>\n",
       "  </thead>\n",
       "  <tbody>\n",
       "    <tr>\n",
       "      <th>154</th>\n",
       "      <td>61.972472</td>\n",
       "      <td>10.101240</td>\n",
       "      <td>26.231373</td>\n",
       "      <td>1.694915</td>\n",
       "    </tr>\n",
       "    <tr>\n",
       "      <th>2124</th>\n",
       "      <td>92.133417</td>\n",
       "      <td>1.510384</td>\n",
       "      <td>3.146633</td>\n",
       "      <td>3.209566</td>\n",
       "    </tr>\n",
       "    <tr>\n",
       "      <th>910</th>\n",
       "      <td>86.521557</td>\n",
       "      <td>3.850984</td>\n",
       "      <td>3.641691</td>\n",
       "      <td>5.985768</td>\n",
       "    </tr>\n",
       "    <tr>\n",
       "      <th>1749</th>\n",
       "      <td>44.694223</td>\n",
       "      <td>16.050278</td>\n",
       "      <td>39.062122</td>\n",
       "      <td>0.193377</td>\n",
       "    </tr>\n",
       "    <tr>\n",
       "      <th>194</th>\n",
       "      <td>45.030033</td>\n",
       "      <td>18.988568</td>\n",
       "      <td>33.617516</td>\n",
       "      <td>2.363883</td>\n",
       "    </tr>\n",
       "    <tr>\n",
       "      <th>141</th>\n",
       "      <td>33.587786</td>\n",
       "      <td>24.823840</td>\n",
       "      <td>40.443335</td>\n",
       "      <td>1.145038</td>\n",
       "    </tr>\n",
       "    <tr>\n",
       "      <th>535</th>\n",
       "      <td>47.815617</td>\n",
       "      <td>27.863777</td>\n",
       "      <td>22.325421</td>\n",
       "      <td>1.995184</td>\n",
       "    </tr>\n",
       "    <tr>\n",
       "      <th>1053</th>\n",
       "      <td>40.808543</td>\n",
       "      <td>28.960081</td>\n",
       "      <td>28.451564</td>\n",
       "      <td>1.779812</td>\n",
       "    </tr>\n",
       "    <tr>\n",
       "      <th>1582</th>\n",
       "      <td>18.662806</td>\n",
       "      <td>9.607792</td>\n",
       "      <td>66.122664</td>\n",
       "      <td>5.606739</td>\n",
       "    </tr>\n",
       "    <tr>\n",
       "      <th>207</th>\n",
       "      <td>45.518868</td>\n",
       "      <td>7.877358</td>\n",
       "      <td>45.377358</td>\n",
       "      <td>1.226415</td>\n",
       "    </tr>\n",
       "  </tbody>\n",
       "</table>\n",
       "</div>"
      ],
      "text/plain": [
       "      Settlement area  Agricultural area  Wooded area  Unproductive area\n",
       "154         61.972472          10.101240    26.231373           1.694915\n",
       "2124        92.133417           1.510384     3.146633           3.209566\n",
       "910         86.521557           3.850984     3.641691           5.985768\n",
       "1749        44.694223          16.050278    39.062122           0.193377\n",
       "194         45.030033          18.988568    33.617516           2.363883\n",
       "141         33.587786          24.823840    40.443335           1.145038\n",
       "535         47.815617          27.863777    22.325421           1.995184\n",
       "1053        40.808543          28.960081    28.451564           1.779812\n",
       "1582        18.662806           9.607792    66.122664           5.606739\n",
       "207         45.518868           7.877358    45.377358           1.226415"
      ]
     },
     "execution_count": 32,
     "metadata": {},
     "output_type": "execute_result"
    }
   ],
   "source": [
    "areas = [\"Settlement area\", \"Agricultural area\", \"Wooded area\", \"Unproductive area\"]\n",
    "most_populated_areas = most_populated.filter(areas)\n",
    "\n",
    "df2 = pd.DataFrame(df,index = most_populated.index, columns= areas)\n",
    "df2"
   ]
  },
  {
   "cell_type": "code",
   "execution_count": 33,
   "id": "ec59f46c-ed0a-4a5f-b746-8d6dda23ed75",
   "metadata": {},
   "outputs": [
    {
     "data": {
      "text/plain": [
       "Text(0.5, 1.0, '10 populated communes by type of area')"
      ]
     },
     "execution_count": 33,
     "metadata": {},
     "output_type": "execute_result"
    },
    {
     "data": {
      "image/png": "[encoded data removed]",
      "text/plain": [
       "<Figure size 432x288 with 1 Axes>"
      ]
     },
     "metadata": {
      "needs_background": "light"
     },
     "output_type": "display_data"
    }
   ],
   "source": [
    "areas_colors = {\"Settlement area\": \"blue\",\"Agricultural area\": \"orange\", \"Wooded area\": \"green\", \"Unproductive area\": \"red\"}\n",
    "\n",
    "df2.set_index(most_populated_cities_short.index, inplace=True)\n",
    "\n",
    "dessin = df2.plot.barh(stacked=True, color=areas_colors)\n",
    "\n",
    "plt.legend(loc='upper left', bbox_to_anchor=(1.0, 0.5))\n",
    "\n",
    "plt.ylabel(\"Commune\")\n",
    "plt.xlabel(\"area type in %\")\n",
    "plt.title(\"10 populated communes by type of area\")"
   ]
  },
  {
   "cell_type": "markdown",
   "id": "041f742d-4cfd-47b2-ae92-5d580babcad2",
   "metadata": {},
   "source": [
    "## C3.We are interested in the number of communes and their proportions of young residents (0-19yrs). Your task is to obtain a histogram that shows the number of communes for which this proportion falls into the following intervals:\n",
    "\n",
    "5%-10%\n",
    "\n",
    "10%-15%\n",
    "\n",
    "15%-20%\n",
    "\n",
    "20%-25%\n",
    "\n",
    "25%-30%\n",
    "\n",
    "30%-35%\n",
    "\n",
    "Ensure that the chart has an appropriate title and labels, and has width of 5 and height of 4. Hint: you can use the figsize to adjust the size. And you can specify the boundaries of the intervals by feeding a list to the bins parameter in the hist-method.\n"
   ]
  },
  {
   "cell_type": "code",
   "execution_count": 34,
   "id": "9c7bd2b3-4ffb-4b64-b6a7-836f98c09438",
   "metadata": {},
   "outputs": [
    {
     "data": {
      "text/plain": [
       "Text(0.5, 1.0, 'distribution of youth in communes')"
      ]
     },
     "execution_count": 34,
     "metadata": {},
     "output_type": "execute_result"
    },
    {
     "data": {
      "image/png": "[encoded data removed]",
      "text/plain": [
       "<Figure size 360x288 with 1 Axes>"
      ]
     },
     "metadata": {
      "needs_background": "light"
     },
     "output_type": "display_data"
    }
   ],
   "source": [
    "youth = df.hist(column='0-19 years', color='lime', range = [5, 35], figsize=(5,4), bins=32)\n",
    "\n",
    "plt.ylabel(\"numbers of Commune\")\n",
    "plt.xlabel(\"0-19 y.o. residents   %\")\n",
    "plt.title(\"distribution of youth in communes\")"
   ]
  },
  {
   "cell_type": "markdown",
   "id": "f316b473-922a-48e1-a383-aa5f5a9ec0f3",
   "metadata": {},
   "source": [
    "## C4.Your task is to investigate the distributions of the age group 0-19 years, which is a numerical variable, across four language regions, which is a categorical variable. Hint: you can choose from Seaborn one of the violin plot, box plot or boxen plot for this purpose.\n"
   ]
  },
  {
   "cell_type": "code",
   "execution_count": 35,
   "id": "0ec6327c-1efe-4a0f-9a5c-0ecb86448f30",
   "metadata": {},
   "outputs": [
    {
     "data": {
      "text/html": [
       "<div>\n",
       "<style scoped>\n",
       "    .dataframe tbody tr th:only-of-type {\n",
       "        vertical-align: middle;\n",
       "    }\n",
       "\n",
       "    .dataframe tbody tr th {\n",
       "        vertical-align: top;\n",
       "    }\n",
       "\n",
       "    .dataframe thead th {\n",
       "        text-align: right;\n",
       "    }\n",
       "</style>\n",
       "<table border=\"1\" class=\"dataframe\">\n",
       "  <thead>\n",
       "    <tr style=\"text-align: right;\">\n",
       "      <th></th>\n",
       "      <th>0-19 years</th>\n",
       "      <th>Language</th>\n",
       "    </tr>\n",
       "  </thead>\n",
       "  <tbody>\n",
       "    <tr>\n",
       "      <th>0</th>\n",
       "      <td>19.677094</td>\n",
       "      <td>de</td>\n",
       "    </tr>\n",
       "    <tr>\n",
       "      <th>1</th>\n",
       "      <td>20.508627</td>\n",
       "      <td>de</td>\n",
       "    </tr>\n",
       "    <tr>\n",
       "      <th>2</th>\n",
       "      <td>23.666186</td>\n",
       "      <td>de</td>\n",
       "    </tr>\n",
       "    <tr>\n",
       "      <th>3</th>\n",
       "      <td>21.804918</td>\n",
       "      <td>de</td>\n",
       "    </tr>\n",
       "    <tr>\n",
       "      <th>4</th>\n",
       "      <td>21.772898</td>\n",
       "      <td>de</td>\n",
       "    </tr>\n",
       "    <tr>\n",
       "      <th>...</th>\n",
       "      <td>...</td>\n",
       "      <td>...</td>\n",
       "    </tr>\n",
       "    <tr>\n",
       "      <th>2197</th>\n",
       "      <td>18.888889</td>\n",
       "      <td>fr</td>\n",
       "    </tr>\n",
       "    <tr>\n",
       "      <th>2198</th>\n",
       "      <td>21.869919</td>\n",
       "      <td>fr</td>\n",
       "    </tr>\n",
       "    <tr>\n",
       "      <th>2199</th>\n",
       "      <td>18.895801</td>\n",
       "      <td>fr</td>\n",
       "    </tr>\n",
       "    <tr>\n",
       "      <th>2200</th>\n",
       "      <td>18.264840</td>\n",
       "      <td>fr</td>\n",
       "    </tr>\n",
       "    <tr>\n",
       "      <th>2201</th>\n",
       "      <td>21.514630</td>\n",
       "      <td>fr</td>\n",
       "    </tr>\n",
       "  </tbody>\n",
       "</table>\n",
       "<p>2191 rows × 2 columns</p>\n",
       "</div>"
      ],
      "text/plain": [
       "      0-19 years Language\n",
       "0      19.677094       de\n",
       "1      20.508627       de\n",
       "2      23.666186       de\n",
       "3      21.804918       de\n",
       "4      21.772898       de\n",
       "...          ...      ...\n",
       "2197   18.888889       fr\n",
       "2198   21.869919       fr\n",
       "2199   18.895801       fr\n",
       "2200   18.264840       fr\n",
       "2201   21.514630       fr\n",
       "\n",
       "[2191 rows x 2 columns]"
      ]
     },
     "execution_count": 35,
     "metadata": {},
     "output_type": "execute_result"
    }
   ],
   "source": [
    "youth_and_language = df.loc[df.index, [\"0-19 years\", \"Language\"]]\n",
    "\n",
    "youth_and_language"
   ]
  },
  {
   "cell_type": "code",
   "execution_count": 36,
   "id": "f15e837d-8c9e-4957-930e-2083263457f7",
   "metadata": {},
   "outputs": [
    {
     "data": {
      "text/plain": [
       "Text(0, 0.5, 'percent of population 0-19 y.o.')"
      ]
     },
     "execution_count": 36,
     "metadata": {},
     "output_type": "execute_result"
    },
    {
     "data": {
      "image/png": "[encoded data removed]",
      "text/plain": [
       "<Figure size 432x288 with 1 Axes>"
      ]
     },
     "metadata": {
      "needs_background": "light"
     },
     "output_type": "display_data"
    }
   ],
   "source": [
    "ax0=sns.violinplot(x=\"Language\", y=\"0-19 years\", data=youth_and_language)\n",
    "ax0.set_title(\"distributions of the age group 0-19 years across language regions\")\n",
    "ax0.set_ylabel(\"percent of population 0-19 y.o.\")\n"
   ]
  },
  {
   "cell_type": "markdown",
   "id": "53814598-548c-4979-99e8-d2c899e30ea4",
   "metadata": {},
   "source": [
    "## C5. Your task is to do the previous task for the three age groups 0-19 years, 20-64 years, and 65 years or over. In order to make the comparison easy, you should make a plot with one subplot per age group (plot with 1 row and 3 columns). Ensure that the subplots have appropriate titles, legends, and labels. Also, ensure that they have proper sizes and there is enough space between them.\n",
    "\n",
    "    The y-axis of the subplot should show the percentages of the populations for age groups, ranging from 0 to 80%. Hint: you can use sharey parameter of the subplot.\n",
    "Optional: add the observations into your subplot to see how they form the distributions. For instance, if you chose the box plot, you can draw a strip plot on the same axis as a complement to the box plot. "
   ]
  },
  {
   "cell_type": "code",
   "execution_count": 37,
   "id": "804a9988-462c-42fc-acb9-6b776373ede3",
   "metadata": {},
   "outputs": [
    {
     "data": {
      "text/plain": [
       "(0.0, 80.0)"
      ]
     },
     "execution_count": 37,
     "metadata": {},
     "output_type": "execute_result"
    },
    {
     "data": {
      "image/png": "[encoded data removed]",
      "text/plain": [
       "<Figure size 1152x432 with 3 Axes>"
      ]
     },
     "metadata": {
      "needs_background": "light"
     },
     "output_type": "display_data"
    }
   ],
   "source": [
    "youth_and_mature_language = df.loc[df.index, [\"0-19 years\", \"20-64 years\", \"65 years or over\", \"Language\"]]\n",
    "\n",
    "\n",
    "#fig, axes = plt.subplots(1, 3, figsize=(16, 6), sharey='row')\n",
    "fig = plt.figure(figsize=(16, 6))\n",
    "gs = fig.add_gridspec(1, 3)\n",
    "\n",
    "fig.suptitle('Spoken language distribution across age groups') # or plt.suptitle('Main title')\n",
    "\n",
    "ax = fig.add_subplot(gs[0, 0])\n",
    "ax = sns.violinplot(x=\"Language\", y=\"0-19 years\", data=youth_and_mature_language)\n",
    "\n",
    "ax.set_title(\"% 0-19 years among residents\")\n",
    "ax.set_ylabel(\"percent of population\")\n",
    "ax.set_xlabel(\"spoken language\")\n",
    "ax.set_ylim(bottom=0, top=80)\n",
    "\n",
    "# ==========================================================\n",
    "ax = fig.add_subplot(gs[0, 1])\n",
    "\n",
    "ax = sns.violinplot(x=\"Language\", y=\"20-64 years\", data=youth_and_mature_language)\n",
    "\n",
    "ax.set_title(\"% 20-64 years among residents\")\n",
    "ax.set_ylabel(\"percent of population\")\n",
    "ax.set_xlabel(\"spoken language\")\n",
    "ax.set_ylim(bottom=0, top=80)\n",
    "\n",
    "# ==========================================================\n",
    "ax = fig.add_subplot(gs[0, 2])\n",
    "\n",
    "ax = sns.violinplot(x=\"Language\", y=\"65 years or over\", data=youth_and_mature_language)\n",
    "\n",
    "ax.set_title(\"% 65 years or over among residents\")\n",
    "ax.set_ylabel(\"percent of population\")\n",
    "ax.set_xlabel(\"spoken language\")\n",
    "ax.set_ylim(bottom=0, top=80)"
   ]
  },
  {
   "cell_type": "markdown",
   "id": "34eb6dad-b0e5-4ff7-a310-0ef09bcd1b78",
   "metadata": {},
   "source": [
    "## C6. Your task is to use the pairplot from Seaborn and produce 3 plots to visually investigate the relation between the Agricultural area of communes and their Settlement area, Wooded area and the Unproductive area.\n",
    "\n",
    "    Are the relations linear?\n",
    "    Use the Elevation as the color-code variable in the plot and show that communes that are located in high altitudes have very low Settlement and Agricultural areas, but have a lot of Unproductive areas. "
   ]
  },
  {
   "cell_type": "code",
   "execution_count": 38,
   "id": "b6785d42-463e-420e-a4f7-314e17e4af94",
   "metadata": {},
   "outputs": [
    {
     "data": {
      "text/plain": [
       "Text(0.5, 1.08, 'relation between the Agricultural area of communes and their Settlement area, Wooded area and the Unproductive area')"
      ]
     },
     "execution_count": 38,
     "metadata": {},
     "output_type": "execute_result"
    },
    {
     "data": {
      "image/png": "[encoded data removed]",
      "text/plain": [
       "<Figure size 540x180 with 3 Axes>"
      ]
     },
     "metadata": {
      "needs_background": "light"
     },
     "output_type": "display_data"
    }
   ],
   "source": [
    "agroplot = sns.pairplot(\n",
    "    df,\n",
    "    x_vars=[\"Settlement area\", \"Wooded area\", \"Unproductive area\"],\n",
    "    y_vars=[\"Agricultural area\"],    \n",
    ")\n",
    "\n",
    "agroplot.fig.suptitle(\"relation between the Agricultural area of communes and their Settlement area, Wooded area and the Unproductive area\", y=1.08) # y= some height>1"
   ]
  },
  {
   "cell_type": "code",
   "execution_count": 39,
   "id": "4adfaf1c-d132-4c60-adf3-50e5453e9c89",
   "metadata": {},
   "outputs": [],
   "source": [
    "from sklearn.linear_model import LinearRegression"
   ]
  },
  {
   "cell_type": "code",
   "execution_count": 40,
   "id": "7f206f33-a1dd-4dba-8f92-390bed5ffecd",
   "metadata": {},
   "outputs": [],
   "source": [
    "linreg = LinearRegression()"
   ]
  },
  {
   "cell_type": "code",
   "execution_count": 41,
   "id": "83217f0b-9612-4c7d-819a-aa2eab92fcad",
   "metadata": {},
   "outputs": [
    {
     "data": {
      "text/plain": [
       "LinearRegression()"
      ]
     },
     "execution_count": 41,
     "metadata": {},
     "output_type": "execute_result"
    }
   ],
   "source": [
    "linreg.fit(df['Settlement area'].to_frame(), df['Agricultural area'])"
   ]
  },
  {
   "cell_type": "code",
   "execution_count": 42,
   "id": "ec7a2485-b05b-46bf-9d92-ce6d0a4c3f93",
   "metadata": {},
   "outputs": [],
   "source": [
    "predictions = linreg.predict(df['Settlement area'].to_frame())"
   ]
  },
  {
   "cell_type": "code",
   "execution_count": 43,
   "id": "c2459b1b-f44f-4682-87be-89f43623864d",
   "metadata": {},
   "outputs": [],
   "source": [
    "residuals = df['Agricultural area'] - predictions"
   ]
  },
  {
   "cell_type": "code",
   "execution_count": 44,
   "id": "8d117107-e53a-4f1c-9c11-079cc4fd3e03",
   "metadata": {},
   "outputs": [
    {
     "data": {
      "text/plain": [
       "Text(0.5, 0, 'Independent variable Settlement area')"
      ]
     },
     "execution_count": 44,
     "metadata": {},
     "output_type": "execute_result"
    },
    {
     "data": {
      "image/png": "[encoded data removed]",
      "text/plain": [
       "<Figure size 432x288 with 1 Axes>"
      ]
     },
     "metadata": {
      "needs_background": "light"
     },
     "output_type": "display_data"
    }
   ],
   "source": [
    "plt.scatter(y=residuals, x=df['Settlement area'])\n",
    "\n",
    "plt.ylabel('Residuals')\n",
    "\n",
    "plt.xlabel('Independent variable Settlement area')\n",
    "\n"
   ]
  },
  {
   "cell_type": "code",
   "execution_count": 45,
   "id": "311b7dd9-2f56-4e4b-b8b2-133fa9af7fcb",
   "metadata": {},
   "outputs": [
    {
     "data": {
      "text/plain": [
       "Text(0.5, 6.79999999999999, 'Residuals')"
      ]
     },
     "execution_count": 45,
     "metadata": {},
     "output_type": "execute_result"
    },
    {
     "data": {
      "image/png": "[encoded data removed]",
      "text/plain": [
       "<Figure size 360x360 with 1 Axes>"
      ]
     },
     "metadata": {
      "needs_background": "light"
     },
     "output_type": "display_data"
    }
   ],
   "source": [
    "sns.displot(residuals, bins=16)\n",
    "\n",
    "\n",
    "plt.xlabel('Residuals')"
   ]
  },
  {
   "cell_type": "markdown",
   "id": "1336dad6-6c85-42dc-afb2-ec068b6d5bad",
   "metadata": {},
   "source": [
    "residuals are normally distributed and centered around zero: \n",
    "    \n",
    "relation Settlement area with Agricultural area is Linear\n",
    "==============================================================="
   ]
  },
  {
   "cell_type": "code",
   "execution_count": null,
   "id": "756e7571-df9f-4583-81e4-0fa51c9ded78",
   "metadata": {},
   "outputs": [],
   "source": []
  },
  {
   "cell_type": "code",
   "execution_count": 46,
   "id": "51e95758-67de-4497-9db5-7099769c71d7",
   "metadata": {},
   "outputs": [
    {
     "data": {
      "text/plain": [
       "Text(0.5, 0, 'Independent variable Wooded area')"
      ]
     },
     "execution_count": 46,
     "metadata": {},
     "output_type": "execute_result"
    },
    {
     "data": {
      "image/png": "[encoded data removed]",
      "text/plain": [
       "<Figure size 432x288 with 1 Axes>"
      ]
     },
     "metadata": {
      "needs_background": "light"
     },
     "output_type": "display_data"
    }
   ],
   "source": [
    "linreg = LinearRegression()\n",
    "\n",
    "linreg.fit(df['Wooded area'].to_frame(), df['Agricultural area'])\n",
    "\n",
    "predictions = linreg.predict(df['Wooded area'].to_frame())\n",
    "\n",
    "residuals = df['Agricultural area'] - predictions\n",
    "\n",
    "plt.scatter(y=residuals, x=df['Wooded area'])\n",
    "\n",
    "plt.ylabel('Residuals')\n",
    "\n",
    "plt.xlabel('Independent variable Wooded area')\n",
    "\n"
   ]
  },
  {
   "cell_type": "code",
   "execution_count": 47,
   "id": "2dca8948-42d8-4d65-9d94-3769f6cfeda3",
   "metadata": {},
   "outputs": [
    {
     "data": {
      "text/plain": [
       "Text(0.5, 6.79999999999999, 'Residuals')"
      ]
     },
     "execution_count": 47,
     "metadata": {},
     "output_type": "execute_result"
    },
    {
     "data": {
      "image/png": "[encoded data removed]",
      "text/plain": [
       "<Figure size 360x360 with 1 Axes>"
      ]
     },
     "metadata": {
      "needs_background": "light"
     },
     "output_type": "display_data"
    }
   ],
   "source": [
    "sns.displot(residuals, bins=16)\n",
    "\n",
    "plt.xlabel('Residuals')"
   ]
  },
  {
   "cell_type": "markdown",
   "id": "987ef8a3-9df9-43ed-a65d-ec4799f100a4",
   "metadata": {},
   "source": [
    "residuals are normally distributed and centered around zero: \n",
    "    \n",
    "relation Wooded area with Agricultural area is Linear\n",
    "==============================================================="
   ]
  },
  {
   "cell_type": "code",
   "execution_count": 48,
   "id": "4c401ce0-a796-424a-a842-97c04abc58d7",
   "metadata": {},
   "outputs": [
    {
     "data": {
      "text/plain": [
       "Text(0.5, 0, 'Independent variable x')"
      ]
     },
     "execution_count": 48,
     "metadata": {},
     "output_type": "execute_result"
    },
    {
     "data": {
      "image/png": "[encoded data removed]",
      "text/plain": [
       "<Figure size 432x288 with 1 Axes>"
      ]
     },
     "metadata": {
      "needs_background": "light"
     },
     "output_type": "display_data"
    }
   ],
   "source": [
    "linreg = LinearRegression()\n",
    "\n",
    "linreg.fit(df['Unproductive area'].to_frame(), df['Agricultural area'])\n",
    "\n",
    "predictions = linreg.predict(df['Unproductive area'].to_frame())\n",
    "\n",
    "residuals = df['Agricultural area'] - predictions\n",
    "\n",
    "plt.scatter(y=residuals, x=df['Unproductive area'])\n",
    "\n",
    "plt.ylabel('Residuals')\n",
    "\n",
    "plt.xlabel('Independent variable x')"
   ]
  },
  {
   "cell_type": "code",
   "execution_count": 49,
   "id": "bd00cc57-94e2-43df-97a5-b125c247015c",
   "metadata": {},
   "outputs": [
    {
     "data": {
      "text/plain": [
       "Text(0.5, 6.79999999999999, 'Residuals')"
      ]
     },
     "execution_count": 49,
     "metadata": {},
     "output_type": "execute_result"
    },
    {
     "data": {
      "image/png": "[encoded data removed]",
      "text/plain": [
       "<Figure size 360x360 with 1 Axes>"
      ]
     },
     "metadata": {
      "needs_background": "light"
     },
     "output_type": "display_data"
    }
   ],
   "source": [
    "sns.displot(residuals, bins=16)\n",
    "\n",
    "plt.xlabel('Residuals')"
   ]
  },
  {
   "cell_type": "markdown",
   "id": "f2c33d2e-cf60-4f19-b3b3-189c5e323bee",
   "metadata": {},
   "source": [
    "residuals are normally distributed and centered around zero: \n",
    "    \n",
    "relation Unproductive area with Agricultural area is Linear\n",
    "==============================================================="
   ]
  },
  {
   "cell_type": "code",
   "execution_count": 50,
   "id": "9f23c631-ec71-45a2-831a-476ef7770b75",
   "metadata": {},
   "outputs": [
    {
     "data": {
      "image/png": "[encoded data removed]",
      "text/plain": [
       "<Figure size 601.25x180 with 3 Axes>"
      ]
     },
     "metadata": {
      "needs_background": "light"
     },
     "output_type": "display_data"
    }
   ],
   "source": [
    "elevcoloredplot = sns.pairplot(\n",
    "    df,\n",
    "    x_vars=[\"Settlement area\", \"Wooded area\", \"Unproductive area\"],\n",
    "    y_vars=[\"Agricultural area\"],\n",
    "    hue = \"Elevation\"\n",
    ")"
   ]
  },
  {
   "cell_type": "markdown",
   "id": "8ad2c6f9-2030-4dc4-9961-de142133423f",
   "metadata": {},
   "source": [
    "## C7. Your task is to draw a map of Switzerland using the East and North coordinates of communes. Ensure that the plot has an appropriate title, legend and labels. Hint: you can use the Seaborn scatter plot for this task.\n",
    "\n",
    "    Use the Elevation as the color-code variable in the plot so that the you can see the three geographic regions, namely the Swiss Alps, the Central Plateau and the Jura. Your output should look like the following plot.\n",
    "    Re-do the same plot but this time with the Language as the color-code variable.\n",
    "\n"
   ]
  },
  {
   "cell_type": "code",
   "execution_count": 51,
   "id": "358d6945-648a-460d-bd90-5143369f630f",
   "metadata": {},
   "outputs": [
    {
     "data": {
      "text/plain": [
       "<matplotlib.legend.Legend at 0x7f8cb7770cd0>"
      ]
     },
     "execution_count": 51,
     "metadata": {},
     "output_type": "execute_result"
    },
    {
     "data": {
      "image/png": "[encoded data removed]",
      "text/plain": [
       "<Figure size 432x288 with 1 Axes>"
      ]
     },
     "metadata": {
      "needs_background": "light"
     },
     "output_type": "display_data"
    }
   ],
   "source": [
    "scatplot_elev = sns.scatterplot(data = df, x = \"East coordinate\", y = \"North coordinate\", hue = \"Elevation\")\n",
    "plt.title(\"Commune map of Switzerland\")\n",
    "plt.legend(loc='upper left')"
   ]
  },
  {
   "cell_type": "code",
   "execution_count": 52,
   "id": "51375839-332c-48e7-8d67-bb5608126e1f",
   "metadata": {},
   "outputs": [
    {
     "data": {
      "text/plain": [
       "<matplotlib.legend.Legend at 0x7f8cb76193a0>"
      ]
     },
     "execution_count": 52,
     "metadata": {},
     "output_type": "execute_result"
    },
    {
     "data": {
      "image/png": "[encoded data removed]",
      "text/plain": [
       "<Figure size 432x288 with 1 Axes>"
      ]
     },
     "metadata": {
      "needs_background": "light"
     },
     "output_type": "display_data"
    }
   ],
   "source": [
    "scatplot_lang = sns.scatterplot(data = df, x = \"East coordinate\", y = \"North coordinate\", hue = \"Language\")\n",
    "plt.title(\"Commune map of Switzerland\")\n",
    "plt.legend(loc='upper left')"
   ]
  },
  {
   "cell_type": "markdown",
   "id": "c1b201b6-d6dd-4207-89b7-b1e5f8dffb66",
   "metadata": {},
   "source": [
    "## D. Probabilities\n",
    "\n",
    "The objective of this task is to assess your understanding of the conditional probability, but it could be also considered as a data exploration question.\n",
    "\n",
    "Compute the probability that a randomly selected commune with elevation over 2000 is from the canton of Valais."
   ]
  },
  {
   "cell_type": "code",
   "execution_count": 53,
   "id": "57ef521f-a20e-476f-9818-35f67b102785",
   "metadata": {},
   "outputs": [
    {
     "data": {
      "text/plain": [
       "96"
      ]
     },
     "execution_count": 53,
     "metadata": {},
     "output_type": "execute_result"
    }
   ],
   "source": [
    "perche2000 = df.loc[df[\"Elevation\"] > 2000]\n",
    "\n",
    "perche2000[\"Elevation\"].count()"
   ]
  },
  {
   "cell_type": "code",
   "execution_count": 54,
   "id": "48e6b986-de12-44eb-8fc9-6432a08a51bf",
   "metadata": {},
   "outputs": [
    {
     "data": {
      "text/plain": [
       "49"
      ]
     },
     "execution_count": 54,
     "metadata": {},
     "output_type": "execute_result"
    }
   ],
   "source": [
    "perche2000_valais = perche2000.loc[perche2000[\"Canton\"] == \"VS\"]\n",
    "perche2000_valais[\"Commune\"].count()"
   ]
  },
  {
   "cell_type": "code",
   "execution_count": 55,
   "id": "ac3f83ac-6ce9-4cae-8ca6-611584eccdb8",
   "metadata": {},
   "outputs": [
    {
     "name": "stdout",
     "output_type": "stream",
     "text": [
      "probability that a randomly selected commune with elevation over 2000 is from the canton of Valais = 0.5104166666666666 => 51.04 %\n"
     ]
    }
   ],
   "source": [
    "proba_over_2k_in_VS = (perche2000_valais[\"Commune\"].count())/(perche2000[\"Elevation\"].count())\n",
    "rounded_percent = 100 * round(proba_over_2k_in_VS, 4)\n",
    "print(f\"probability that a randomly selected commune with elevation over 2000 is from the canton of Valais = {proba_over_2k_in_VS} => {rounded_percent} %\")"
   ]
  },
  {
   "cell_type": "markdown",
   "id": "b0bf4bd2-9b51-4359-9b81-0c768d100204",
   "metadata": {},
   "source": [
    "## E. Matrices\n",
    "\n",
    "The objective of this task is to assess some of the skills you have learned in this course, but later on you will see that it becomes an important preprocessing step before using Machine Learning models.\n",
    "\n",
    "Define a data frame matrix whose rows correspond to communes and the columns to the cantons. Fill in the matrix with 0/1 values where entry (i,j)\n",
    "is a 1 if the commune in row i is in the canton in column j and a 0 otherwise."
   ]
  },
  {
   "cell_type": "code",
   "execution_count": 56,
   "id": "ef6cc370-fee0-4022-b20a-fe6a51245f1b",
   "metadata": {},
   "outputs": [
    {
     "data": {
      "text/plain": [
       "array([['ZH', 'Aeugst am Albis'],\n",
       "       ['ZH', 'Affoltern am Albis'],\n",
       "       ['ZH', 'Bonstetten'],\n",
       "       ...,\n",
       "       ['JU', 'Clos du Doubs'],\n",
       "       ['JU', 'Haute-Ajoie'],\n",
       "       ['JU', 'La Baroche']], dtype=object)"
      ]
     },
     "execution_count": 56,
     "metadata": {},
     "output_type": "execute_result"
    }
   ],
   "source": [
    "import scipy.sparse as sps\n",
    "\n",
    "cantcom_df = df[['Canton', 'Commune']].copy()\n",
    "\n",
    "cantcom_df.to_numpy()"
   ]
  },
  {
   "cell_type": "code",
   "execution_count": 57,
   "id": "b356b4fc-ea1c-4965-9dad-64793e6aa9be",
   "metadata": {},
   "outputs": [
    {
     "name": "stdout",
     "output_type": "stream",
     "text": [
      "BE    341\n",
      "VD    309\n",
      "AG    210\n",
      "ZH    158\n",
      "FR    131\n",
      "VS    126\n",
      "TI    114\n",
      "SO    109\n",
      "GR    103\n",
      "BL     86\n",
      "LU     82\n",
      "TG     80\n",
      "SG     77\n",
      "JU     53\n",
      "GE     45\n",
      "SZ     30\n",
      "NE     30\n",
      "SH     26\n",
      "AR     20\n",
      "UR     20\n",
      "ZG     11\n",
      "NW     11\n",
      "OW      7\n",
      "AI      6\n",
      "BS      3\n",
      "GL      3\n",
      "Name: Canton, dtype: int64\n"
     ]
    }
   ],
   "source": [
    "item_counts = df[\"Canton\"].value_counts()\n",
    "print(item_counts)"
   ]
  },
  {
   "cell_type": "code",
   "execution_count": 58,
   "id": "cd7ed769-b09b-42e9-b72b-fc115ad93676",
   "metadata": {},
   "outputs": [
    {
     "name": "stdout",
     "output_type": "stream",
     "text": [
      "['ZH', 'BE', 'LU', 'UR', 'SZ', 'OW', 'NW', 'GL', 'ZG', 'FR', 'SO', 'BS', 'BL', 'SH', 'AR', 'AI', 'SG', 'GR', 'AG', 'TG', 'TI', 'VD', 'VS', 'NE', 'GE', 'JU']\n"
     ]
    }
   ],
   "source": [
    "array_cantons = df['Canton'].unique()\n",
    "\n",
    "list_cantons = list(array_cantons)\n",
    "\n",
    "len_list_cantons = len(list_cantons)\n",
    "print(list_cantons)"
   ]
  },
  {
   "cell_type": "code",
   "execution_count": 59,
   "id": "4b72c5c5-2c89-4955-8a65-e9274693b6a0",
   "metadata": {},
   "outputs": [],
   "source": [
    "dico_canton_idx = dict()\n",
    "\n",
    "for canton in array_cantons:\n",
    "    dico_canton_idx.update({canton:list_cantons.index(canton)})"
   ]
  },
  {
   "cell_type": "code",
   "execution_count": 60,
   "id": "a053683b-075e-4763-b9c2-52ccad9c0d8f",
   "metadata": {},
   "outputs": [
    {
     "name": "stdout",
     "output_type": "stream",
     "text": [
      " Cantons indexes : \n",
      "  {'ZH': 0, 'BE': 1, 'LU': 2, 'UR': 3, 'SZ': 4, 'OW': 5, 'NW': 6, 'GL': 7, 'ZG': 8, 'FR': 9, 'SO': 10, 'BS': 11, 'BL': 12, 'SH': 13, 'AR': 14, 'AI': 15, 'SG': 16, 'GR': 17, 'AG': 18, 'TG': 19, 'TI': 20, 'VD': 21, 'VS': 22, 'NE': 23, 'GE': 24, 'JU': 25} \n"
     ]
    }
   ],
   "source": [
    "print(f\" Cantons indexes : \\n  {dico_canton_idx} \")"
   ]
  },
  {
   "cell_type": "code",
   "execution_count": 61,
   "id": "2dee518a-9aaa-41f4-a11a-18f104d4712c",
   "metadata": {},
   "outputs": [],
   "source": [
    "def zerolistmaker(n):\n",
    "    listofzeros = [0] * n\n",
    "    return listofzeros"
   ]
  },
  {
   "cell_type": "code",
   "execution_count": 62,
   "id": "f1628f98-bd31-4562-9ef5-96bb2de4dba4",
   "metadata": {},
   "outputs": [],
   "source": [
    "tableau = list()\n",
    "\n",
    "for entry in cantcom_df.iterrows():\n",
    "    newlist = zerolistmaker(len_list_cantons)     \n",
    "    \n",
    "    canton_of_entry = entry[1].values[0]    \n",
    "       \n",
    "    idx_canton_of_entry = list_cantons.index(canton_of_entry)    \n",
    "    newlist[idx_canton_of_entry] = 1    \n",
    "    \n",
    "    tableau.append(newlist)"
   ]
  },
  {
   "cell_type": "code",
   "execution_count": 63,
   "id": "f62bae89-5bac-450e-b41e-9d320b026609",
   "metadata": {},
   "outputs": [
    {
     "name": "stdout",
     "output_type": "stream",
     "text": [
      "2138\n",
      "2191\n"
     ]
    }
   ],
   "source": [
    "last_entry = tableau[-1]\n",
    "idx_last_entry = tableau.index(last_entry) \n",
    "print(idx_last_entry)              # 2202 before drop nan , 2191 after drop , why last element is idx 2138 ???\n",
    "print(len(tableau))"
   ]
  },
  {
   "cell_type": "code",
   "execution_count": 64,
   "id": "e1fe6737-d1b2-4289-a7aa-213d407c410c",
   "metadata": {},
   "outputs": [],
   "source": [
    "from sklearn.preprocessing import OneHotEncoder\n"
   ]
  },
  {
   "cell_type": "code",
   "execution_count": 65,
   "id": "ef42a106-ee0d-4662-b66e-c1d069470dfc",
   "metadata": {},
   "outputs": [],
   "source": [
    "df_copy = df.copy()\n",
    "data = pd.get_dummies(df_copy,prefix=['Canton'], columns = ['Canton'], drop_first=True)"
   ]
  },
  {
   "cell_type": "code",
   "execution_count": 66,
   "id": "1a024225-dc3f-4c51-9c8a-0b943117d558",
   "metadata": {},
   "outputs": [
    {
     "data": {
      "text/html": [
       "<div>\n",
       "<style scoped>\n",
       "    .dataframe tbody tr th:only-of-type {\n",
       "        vertical-align: middle;\n",
       "    }\n",
       "\n",
       "    .dataframe tbody tr th {\n",
       "        vertical-align: top;\n",
       "    }\n",
       "\n",
       "    .dataframe thead th {\n",
       "        text-align: right;\n",
       "    }\n",
       "</style>\n",
       "<table border=\"1\" class=\"dataframe\">\n",
       "  <thead>\n",
       "    <tr style=\"text-align: right;\">\n",
       "      <th></th>\n",
       "      <th>Commune</th>\n",
       "      <th>Language</th>\n",
       "      <th>Residents</th>\n",
       "      <th>Population density per km²</th>\n",
       "      <th>0-19 years</th>\n",
       "      <th>20-64 years</th>\n",
       "      <th>65 years or over</th>\n",
       "      <th>Private households</th>\n",
       "      <th>Surface area in km²</th>\n",
       "      <th>Settlement area</th>\n",
       "      <th>...</th>\n",
       "      <th>Canton_SH</th>\n",
       "      <th>Canton_SO</th>\n",
       "      <th>Canton_SZ</th>\n",
       "      <th>Canton_TG</th>\n",
       "      <th>Canton_TI</th>\n",
       "      <th>Canton_UR</th>\n",
       "      <th>Canton_VD</th>\n",
       "      <th>Canton_VS</th>\n",
       "      <th>Canton_ZG</th>\n",
       "      <th>Canton_ZH</th>\n",
       "    </tr>\n",
       "  </thead>\n",
       "  <tbody>\n",
       "    <tr>\n",
       "      <th>0</th>\n",
       "      <td>Aeugst am Albis</td>\n",
       "      <td>de</td>\n",
       "      <td>1982</td>\n",
       "      <td>250.568900</td>\n",
       "      <td>19.677094</td>\n",
       "      <td>62.764884</td>\n",
       "      <td>17.558022</td>\n",
       "      <td>835</td>\n",
       "      <td>7.91</td>\n",
       "      <td>12.658228</td>\n",
       "      <td>...</td>\n",
       "      <td>0</td>\n",
       "      <td>0</td>\n",
       "      <td>0</td>\n",
       "      <td>0</td>\n",
       "      <td>0</td>\n",
       "      <td>0</td>\n",
       "      <td>0</td>\n",
       "      <td>0</td>\n",
       "      <td>0</td>\n",
       "      <td>1</td>\n",
       "    </tr>\n",
       "    <tr>\n",
       "      <th>1</th>\n",
       "      <td>Affoltern am Albis</td>\n",
       "      <td>de</td>\n",
       "      <td>12229</td>\n",
       "      <td>1154.768650</td>\n",
       "      <td>20.508627</td>\n",
       "      <td>61.329626</td>\n",
       "      <td>18.161747</td>\n",
       "      <td>5348</td>\n",
       "      <td>10.59</td>\n",
       "      <td>30.674264</td>\n",
       "      <td>...</td>\n",
       "      <td>0</td>\n",
       "      <td>0</td>\n",
       "      <td>0</td>\n",
       "      <td>0</td>\n",
       "      <td>0</td>\n",
       "      <td>0</td>\n",
       "      <td>0</td>\n",
       "      <td>0</td>\n",
       "      <td>0</td>\n",
       "      <td>1</td>\n",
       "    </tr>\n",
       "    <tr>\n",
       "      <th>2</th>\n",
       "      <td>Bonstetten</td>\n",
       "      <td>de</td>\n",
       "      <td>5548</td>\n",
       "      <td>746.702557</td>\n",
       "      <td>23.666186</td>\n",
       "      <td>60.310022</td>\n",
       "      <td>16.023792</td>\n",
       "      <td>2325</td>\n",
       "      <td>7.43</td>\n",
       "      <td>15.456989</td>\n",
       "      <td>...</td>\n",
       "      <td>0</td>\n",
       "      <td>0</td>\n",
       "      <td>0</td>\n",
       "      <td>0</td>\n",
       "      <td>0</td>\n",
       "      <td>0</td>\n",
       "      <td>0</td>\n",
       "      <td>0</td>\n",
       "      <td>0</td>\n",
       "      <td>1</td>\n",
       "    </tr>\n",
       "    <tr>\n",
       "      <th>3</th>\n",
       "      <td>Hausen am Albis</td>\n",
       "      <td>de</td>\n",
       "      <td>3701</td>\n",
       "      <td>272.132353</td>\n",
       "      <td>21.804918</td>\n",
       "      <td>60.686301</td>\n",
       "      <td>17.508781</td>\n",
       "      <td>1546</td>\n",
       "      <td>13.60</td>\n",
       "      <td>12.692590</td>\n",
       "      <td>...</td>\n",
       "      <td>0</td>\n",
       "      <td>0</td>\n",
       "      <td>0</td>\n",
       "      <td>0</td>\n",
       "      <td>0</td>\n",
       "      <td>0</td>\n",
       "      <td>0</td>\n",
       "      <td>0</td>\n",
       "      <td>0</td>\n",
       "      <td>1</td>\n",
       "    </tr>\n",
       "    <tr>\n",
       "      <th>4</th>\n",
       "      <td>Hedingen</td>\n",
       "      <td>de</td>\n",
       "      <td>3734</td>\n",
       "      <td>571.822358</td>\n",
       "      <td>21.772898</td>\n",
       "      <td>61.756829</td>\n",
       "      <td>16.470273</td>\n",
       "      <td>1540</td>\n",
       "      <td>6.53</td>\n",
       "      <td>19.817073</td>\n",
       "      <td>...</td>\n",
       "      <td>0</td>\n",
       "      <td>0</td>\n",
       "      <td>0</td>\n",
       "      <td>0</td>\n",
       "      <td>0</td>\n",
       "      <td>0</td>\n",
       "      <td>0</td>\n",
       "      <td>0</td>\n",
       "      <td>0</td>\n",
       "      <td>1</td>\n",
       "    </tr>\n",
       "    <tr>\n",
       "      <th>...</th>\n",
       "      <td>...</td>\n",
       "      <td>...</td>\n",
       "      <td>...</td>\n",
       "      <td>...</td>\n",
       "      <td>...</td>\n",
       "      <td>...</td>\n",
       "      <td>...</td>\n",
       "      <td>...</td>\n",
       "      <td>...</td>\n",
       "      <td>...</td>\n",
       "      <td>...</td>\n",
       "      <td>...</td>\n",
       "      <td>...</td>\n",
       "      <td>...</td>\n",
       "      <td>...</td>\n",
       "      <td>...</td>\n",
       "      <td>...</td>\n",
       "      <td>...</td>\n",
       "      <td>...</td>\n",
       "      <td>...</td>\n",
       "      <td>...</td>\n",
       "    </tr>\n",
       "    <tr>\n",
       "      <th>2197</th>\n",
       "      <td>Vendlincourt</td>\n",
       "      <td>fr</td>\n",
       "      <td>540</td>\n",
       "      <td>59.016393</td>\n",
       "      <td>18.888889</td>\n",
       "      <td>56.296296</td>\n",
       "      <td>24.814815</td>\n",
       "      <td>224</td>\n",
       "      <td>9.15</td>\n",
       "      <td>6.338798</td>\n",
       "      <td>...</td>\n",
       "      <td>0</td>\n",
       "      <td>0</td>\n",
       "      <td>0</td>\n",
       "      <td>0</td>\n",
       "      <td>0</td>\n",
       "      <td>0</td>\n",
       "      <td>0</td>\n",
       "      <td>0</td>\n",
       "      <td>0</td>\n",
       "      <td>0</td>\n",
       "    </tr>\n",
       "    <tr>\n",
       "      <th>2198</th>\n",
       "      <td>Basse-Allaine</td>\n",
       "      <td>fr</td>\n",
       "      <td>1230</td>\n",
       "      <td>53.385417</td>\n",
       "      <td>21.869919</td>\n",
       "      <td>52.195122</td>\n",
       "      <td>25.934959</td>\n",
       "      <td>540</td>\n",
       "      <td>23.04</td>\n",
       "      <td>7.391304</td>\n",
       "      <td>...</td>\n",
       "      <td>0</td>\n",
       "      <td>0</td>\n",
       "      <td>0</td>\n",
       "      <td>0</td>\n",
       "      <td>0</td>\n",
       "      <td>0</td>\n",
       "      <td>0</td>\n",
       "      <td>0</td>\n",
       "      <td>0</td>\n",
       "      <td>0</td>\n",
       "    </tr>\n",
       "    <tr>\n",
       "      <th>2199</th>\n",
       "      <td>Clos du Doubs</td>\n",
       "      <td>fr</td>\n",
       "      <td>1286</td>\n",
       "      <td>20.825911</td>\n",
       "      <td>18.895801</td>\n",
       "      <td>56.143079</td>\n",
       "      <td>24.961120</td>\n",
       "      <td>574</td>\n",
       "      <td>61.75</td>\n",
       "      <td>3.626356</td>\n",
       "      <td>...</td>\n",
       "      <td>0</td>\n",
       "      <td>0</td>\n",
       "      <td>0</td>\n",
       "      <td>0</td>\n",
       "      <td>0</td>\n",
       "      <td>0</td>\n",
       "      <td>0</td>\n",
       "      <td>0</td>\n",
       "      <td>0</td>\n",
       "      <td>0</td>\n",
       "    </tr>\n",
       "    <tr>\n",
       "      <th>2200</th>\n",
       "      <td>Haute-Ajoie</td>\n",
       "      <td>fr</td>\n",
       "      <td>1095</td>\n",
       "      <td>26.752993</td>\n",
       "      <td>18.264840</td>\n",
       "      <td>56.347032</td>\n",
       "      <td>25.388128</td>\n",
       "      <td>493</td>\n",
       "      <td>40.93</td>\n",
       "      <td>4.054714</td>\n",
       "      <td>...</td>\n",
       "      <td>0</td>\n",
       "      <td>0</td>\n",
       "      <td>0</td>\n",
       "      <td>0</td>\n",
       "      <td>0</td>\n",
       "      <td>0</td>\n",
       "      <td>0</td>\n",
       "      <td>0</td>\n",
       "      <td>0</td>\n",
       "      <td>0</td>\n",
       "    </tr>\n",
       "    <tr>\n",
       "      <th>2201</th>\n",
       "      <td>La Baroche</td>\n",
       "      <td>fr</td>\n",
       "      <td>1162</td>\n",
       "      <td>37.399421</td>\n",
       "      <td>21.514630</td>\n",
       "      <td>54.905336</td>\n",
       "      <td>23.580034</td>\n",
       "      <td>497</td>\n",
       "      <td>31.07</td>\n",
       "      <td>4.946996</td>\n",
       "      <td>...</td>\n",
       "      <td>0</td>\n",
       "      <td>0</td>\n",
       "      <td>0</td>\n",
       "      <td>0</td>\n",
       "      <td>0</td>\n",
       "      <td>0</td>\n",
       "      <td>0</td>\n",
       "      <td>0</td>\n",
       "      <td>0</td>\n",
       "      <td>0</td>\n",
       "    </tr>\n",
       "  </tbody>\n",
       "</table>\n",
       "<p>2191 rows × 41 columns</p>\n",
       "</div>"
      ],
      "text/plain": [
       "                 Commune Language  Residents  Population density per km²  \\\n",
       "0        Aeugst am Albis       de       1982                  250.568900   \n",
       "1     Affoltern am Albis       de      12229                 1154.768650   \n",
       "2             Bonstetten       de       5548                  746.702557   \n",
       "3        Hausen am Albis       de       3701                  272.132353   \n",
       "4               Hedingen       de       3734                  571.822358   \n",
       "...                  ...      ...        ...                         ...   \n",
       "2197        Vendlincourt       fr        540                   59.016393   \n",
       "2198       Basse-Allaine       fr       1230                   53.385417   \n",
       "2199       Clos du Doubs       fr       1286                   20.825911   \n",
       "2200         Haute-Ajoie       fr       1095                   26.752993   \n",
       "2201          La Baroche       fr       1162                   37.399421   \n",
       "\n",
       "      0-19 years  20-64 years  65 years or over  Private households  \\\n",
       "0      19.677094    62.764884         17.558022                 835   \n",
       "1      20.508627    61.329626         18.161747                5348   \n",
       "2      23.666186    60.310022         16.023792                2325   \n",
       "3      21.804918    60.686301         17.508781                1546   \n",
       "4      21.772898    61.756829         16.470273                1540   \n",
       "...          ...          ...               ...                 ...   \n",
       "2197   18.888889    56.296296         24.814815                 224   \n",
       "2198   21.869919    52.195122         25.934959                 540   \n",
       "2199   18.895801    56.143079         24.961120                 574   \n",
       "2200   18.264840    56.347032         25.388128                 493   \n",
       "2201   21.514630    54.905336         23.580034                 497   \n",
       "\n",
       "      Surface area in km²  Settlement area  ...  Canton_SH  Canton_SO  \\\n",
       "0                    7.91        12.658228  ...          0          0   \n",
       "1                   10.59        30.674264  ...          0          0   \n",
       "2                    7.43        15.456989  ...          0          0   \n",
       "3                   13.60        12.692590  ...          0          0   \n",
       "4                    6.53        19.817073  ...          0          0   \n",
       "...                   ...              ...  ...        ...        ...   \n",
       "2197                 9.15         6.338798  ...          0          0   \n",
       "2198                23.04         7.391304  ...          0          0   \n",
       "2199                61.75         3.626356  ...          0          0   \n",
       "2200                40.93         4.054714  ...          0          0   \n",
       "2201                31.07         4.946996  ...          0          0   \n",
       "\n",
       "      Canton_SZ  Canton_TG  Canton_TI  Canton_UR  Canton_VD  Canton_VS  \\\n",
       "0             0          0          0          0          0          0   \n",
       "1             0          0          0          0          0          0   \n",
       "2             0          0          0          0          0          0   \n",
       "3             0          0          0          0          0          0   \n",
       "4             0          0          0          0          0          0   \n",
       "...         ...        ...        ...        ...        ...        ...   \n",
       "2197          0          0          0          0          0          0   \n",
       "2198          0          0          0          0          0          0   \n",
       "2199          0          0          0          0          0          0   \n",
       "2200          0          0          0          0          0          0   \n",
       "2201          0          0          0          0          0          0   \n",
       "\n",
       "      Canton_ZG  Canton_ZH  \n",
       "0             0          1  \n",
       "1             0          1  \n",
       "2             0          1  \n",
       "3             0          1  \n",
       "4             0          1  \n",
       "...         ...        ...  \n",
       "2197          0          0  \n",
       "2198          0          0  \n",
       "2199          0          0  \n",
       "2200          0          0  \n",
       "2201          0          0  \n",
       "\n",
       "[2191 rows x 41 columns]"
      ]
     },
     "execution_count": 66,
     "metadata": {},
     "output_type": "execute_result"
    }
   ],
   "source": [
    "data"
   ]
  },
  {
   "cell_type": "code",
   "execution_count": 71,
   "id": "bb5c4b4a-222f-4b9c-b866-1f290424baaf",
   "metadata": {},
   "outputs": [],
   "source": [
    "from sklearn.preprocessing import OneHotEncoder\n",
    "jobs_encoder = OneHotEncoder()"
   ]
  },
  {
   "cell_type": "code",
   "execution_count": 72,
   "id": "23231f1d-287e-4e56-a4c4-a169383d8f67",
   "metadata": {},
   "outputs": [],
   "source": [
    "#https://stackoverflow.com/questions/37292872/how-can-i-one-hot-encode-in-python\n",
    "\n",
    "canton_matrix = pd.get_dummies(df.Canton, drop_first=True)"
   ]
  },
  {
   "cell_type": "code",
   "execution_count": 73,
   "id": "d10fdc98-3fc3-473c-8854-f8e42a16b568",
   "metadata": {},
   "outputs": [
    {
     "data": {
      "text/html": [
       "<div>\n",
       "<style scoped>\n",
       "    .dataframe tbody tr th:only-of-type {\n",
       "        vertical-align: middle;\n",
       "    }\n",
       "\n",
       "    .dataframe tbody tr th {\n",
       "        vertical-align: top;\n",
       "    }\n",
       "\n",
       "    .dataframe thead th {\n",
       "        text-align: right;\n",
       "    }\n",
       "</style>\n",
       "<table border=\"1\" class=\"dataframe\">\n",
       "  <thead>\n",
       "    <tr style=\"text-align: right;\">\n",
       "      <th></th>\n",
       "      <th>AI</th>\n",
       "      <th>AR</th>\n",
       "      <th>BE</th>\n",
       "      <th>BL</th>\n",
       "      <th>BS</th>\n",
       "      <th>FR</th>\n",
       "      <th>GE</th>\n",
       "      <th>GL</th>\n",
       "      <th>GR</th>\n",
       "      <th>JU</th>\n",
       "      <th>...</th>\n",
       "      <th>SH</th>\n",
       "      <th>SO</th>\n",
       "      <th>SZ</th>\n",
       "      <th>TG</th>\n",
       "      <th>TI</th>\n",
       "      <th>UR</th>\n",
       "      <th>VD</th>\n",
       "      <th>VS</th>\n",
       "      <th>ZG</th>\n",
       "      <th>ZH</th>\n",
       "    </tr>\n",
       "  </thead>\n",
       "  <tbody>\n",
       "    <tr>\n",
       "      <th>0</th>\n",
       "      <td>0</td>\n",
       "      <td>0</td>\n",
       "      <td>0</td>\n",
       "      <td>0</td>\n",
       "      <td>0</td>\n",
       "      <td>0</td>\n",
       "      <td>0</td>\n",
       "      <td>0</td>\n",
       "      <td>0</td>\n",
       "      <td>0</td>\n",
       "      <td>...</td>\n",
       "      <td>0</td>\n",
       "      <td>0</td>\n",
       "      <td>0</td>\n",
       "      <td>0</td>\n",
       "      <td>0</td>\n",
       "      <td>0</td>\n",
       "      <td>0</td>\n",
       "      <td>0</td>\n",
       "      <td>0</td>\n",
       "      <td>1</td>\n",
       "    </tr>\n",
       "    <tr>\n",
       "      <th>1</th>\n",
       "      <td>0</td>\n",
       "      <td>0</td>\n",
       "      <td>0</td>\n",
       "      <td>0</td>\n",
       "      <td>0</td>\n",
       "      <td>0</td>\n",
       "      <td>0</td>\n",
       "      <td>0</td>\n",
       "      <td>0</td>\n",
       "      <td>0</td>\n",
       "      <td>...</td>\n",
       "      <td>0</td>\n",
       "      <td>0</td>\n",
       "      <td>0</td>\n",
       "      <td>0</td>\n",
       "      <td>0</td>\n",
       "      <td>0</td>\n",
       "      <td>0</td>\n",
       "      <td>0</td>\n",
       "      <td>0</td>\n",
       "      <td>1</td>\n",
       "    </tr>\n",
       "    <tr>\n",
       "      <th>2</th>\n",
       "      <td>0</td>\n",
       "      <td>0</td>\n",
       "      <td>0</td>\n",
       "      <td>0</td>\n",
       "      <td>0</td>\n",
       "      <td>0</td>\n",
       "      <td>0</td>\n",
       "      <td>0</td>\n",
       "      <td>0</td>\n",
       "      <td>0</td>\n",
       "      <td>...</td>\n",
       "      <td>0</td>\n",
       "      <td>0</td>\n",
       "      <td>0</td>\n",
       "      <td>0</td>\n",
       "      <td>0</td>\n",
       "      <td>0</td>\n",
       "      <td>0</td>\n",
       "      <td>0</td>\n",
       "      <td>0</td>\n",
       "      <td>1</td>\n",
       "    </tr>\n",
       "    <tr>\n",
       "      <th>3</th>\n",
       "      <td>0</td>\n",
       "      <td>0</td>\n",
       "      <td>0</td>\n",
       "      <td>0</td>\n",
       "      <td>0</td>\n",
       "      <td>0</td>\n",
       "      <td>0</td>\n",
       "      <td>0</td>\n",
       "      <td>0</td>\n",
       "      <td>0</td>\n",
       "      <td>...</td>\n",
       "      <td>0</td>\n",
       "      <td>0</td>\n",
       "      <td>0</td>\n",
       "      <td>0</td>\n",
       "      <td>0</td>\n",
       "      <td>0</td>\n",
       "      <td>0</td>\n",
       "      <td>0</td>\n",
       "      <td>0</td>\n",
       "      <td>1</td>\n",
       "    </tr>\n",
       "    <tr>\n",
       "      <th>4</th>\n",
       "      <td>0</td>\n",
       "      <td>0</td>\n",
       "      <td>0</td>\n",
       "      <td>0</td>\n",
       "      <td>0</td>\n",
       "      <td>0</td>\n",
       "      <td>0</td>\n",
       "      <td>0</td>\n",
       "      <td>0</td>\n",
       "      <td>0</td>\n",
       "      <td>...</td>\n",
       "      <td>0</td>\n",
       "      <td>0</td>\n",
       "      <td>0</td>\n",
       "      <td>0</td>\n",
       "      <td>0</td>\n",
       "      <td>0</td>\n",
       "      <td>0</td>\n",
       "      <td>0</td>\n",
       "      <td>0</td>\n",
       "      <td>1</td>\n",
       "    </tr>\n",
       "    <tr>\n",
       "      <th>...</th>\n",
       "      <td>...</td>\n",
       "      <td>...</td>\n",
       "      <td>...</td>\n",
       "      <td>...</td>\n",
       "      <td>...</td>\n",
       "      <td>...</td>\n",
       "      <td>...</td>\n",
       "      <td>...</td>\n",
       "      <td>...</td>\n",
       "      <td>...</td>\n",
       "      <td>...</td>\n",
       "      <td>...</td>\n",
       "      <td>...</td>\n",
       "      <td>...</td>\n",
       "      <td>...</td>\n",
       "      <td>...</td>\n",
       "      <td>...</td>\n",
       "      <td>...</td>\n",
       "      <td>...</td>\n",
       "      <td>...</td>\n",
       "      <td>...</td>\n",
       "    </tr>\n",
       "    <tr>\n",
       "      <th>2197</th>\n",
       "      <td>0</td>\n",
       "      <td>0</td>\n",
       "      <td>0</td>\n",
       "      <td>0</td>\n",
       "      <td>0</td>\n",
       "      <td>0</td>\n",
       "      <td>0</td>\n",
       "      <td>0</td>\n",
       "      <td>0</td>\n",
       "      <td>1</td>\n",
       "      <td>...</td>\n",
       "      <td>0</td>\n",
       "      <td>0</td>\n",
       "      <td>0</td>\n",
       "      <td>0</td>\n",
       "      <td>0</td>\n",
       "      <td>0</td>\n",
       "      <td>0</td>\n",
       "      <td>0</td>\n",
       "      <td>0</td>\n",
       "      <td>0</td>\n",
       "    </tr>\n",
       "    <tr>\n",
       "      <th>2198</th>\n",
       "      <td>0</td>\n",
       "      <td>0</td>\n",
       "      <td>0</td>\n",
       "      <td>0</td>\n",
       "      <td>0</td>\n",
       "      <td>0</td>\n",
       "      <td>0</td>\n",
       "      <td>0</td>\n",
       "      <td>0</td>\n",
       "      <td>1</td>\n",
       "      <td>...</td>\n",
       "      <td>0</td>\n",
       "      <td>0</td>\n",
       "      <td>0</td>\n",
       "      <td>0</td>\n",
       "      <td>0</td>\n",
       "      <td>0</td>\n",
       "      <td>0</td>\n",
       "      <td>0</td>\n",
       "      <td>0</td>\n",
       "      <td>0</td>\n",
       "    </tr>\n",
       "    <tr>\n",
       "      <th>2199</th>\n",
       "      <td>0</td>\n",
       "      <td>0</td>\n",
       "      <td>0</td>\n",
       "      <td>0</td>\n",
       "      <td>0</td>\n",
       "      <td>0</td>\n",
       "      <td>0</td>\n",
       "      <td>0</td>\n",
       "      <td>0</td>\n",
       "      <td>1</td>\n",
       "      <td>...</td>\n",
       "      <td>0</td>\n",
       "      <td>0</td>\n",
       "      <td>0</td>\n",
       "      <td>0</td>\n",
       "      <td>0</td>\n",
       "      <td>0</td>\n",
       "      <td>0</td>\n",
       "      <td>0</td>\n",
       "      <td>0</td>\n",
       "      <td>0</td>\n",
       "    </tr>\n",
       "    <tr>\n",
       "      <th>2200</th>\n",
       "      <td>0</td>\n",
       "      <td>0</td>\n",
       "      <td>0</td>\n",
       "      <td>0</td>\n",
       "      <td>0</td>\n",
       "      <td>0</td>\n",
       "      <td>0</td>\n",
       "      <td>0</td>\n",
       "      <td>0</td>\n",
       "      <td>1</td>\n",
       "      <td>...</td>\n",
       "      <td>0</td>\n",
       "      <td>0</td>\n",
       "      <td>0</td>\n",
       "      <td>0</td>\n",
       "      <td>0</td>\n",
       "      <td>0</td>\n",
       "      <td>0</td>\n",
       "      <td>0</td>\n",
       "      <td>0</td>\n",
       "      <td>0</td>\n",
       "    </tr>\n",
       "    <tr>\n",
       "      <th>2201</th>\n",
       "      <td>0</td>\n",
       "      <td>0</td>\n",
       "      <td>0</td>\n",
       "      <td>0</td>\n",
       "      <td>0</td>\n",
       "      <td>0</td>\n",
       "      <td>0</td>\n",
       "      <td>0</td>\n",
       "      <td>0</td>\n",
       "      <td>1</td>\n",
       "      <td>...</td>\n",
       "      <td>0</td>\n",
       "      <td>0</td>\n",
       "      <td>0</td>\n",
       "      <td>0</td>\n",
       "      <td>0</td>\n",
       "      <td>0</td>\n",
       "      <td>0</td>\n",
       "      <td>0</td>\n",
       "      <td>0</td>\n",
       "      <td>0</td>\n",
       "    </tr>\n",
       "  </tbody>\n",
       "</table>\n",
       "<p>2191 rows × 25 columns</p>\n",
       "</div>"
      ],
      "text/plain": [
       "      AI  AR  BE  BL  BS  FR  GE  GL  GR  JU  ...  SH  SO  SZ  TG  TI  UR  VD  \\\n",
       "0      0   0   0   0   0   0   0   0   0   0  ...   0   0   0   0   0   0   0   \n",
       "1      0   0   0   0   0   0   0   0   0   0  ...   0   0   0   0   0   0   0   \n",
       "2      0   0   0   0   0   0   0   0   0   0  ...   0   0   0   0   0   0   0   \n",
       "3      0   0   0   0   0   0   0   0   0   0  ...   0   0   0   0   0   0   0   \n",
       "4      0   0   0   0   0   0   0   0   0   0  ...   0   0   0   0   0   0   0   \n",
       "...   ..  ..  ..  ..  ..  ..  ..  ..  ..  ..  ...  ..  ..  ..  ..  ..  ..  ..   \n",
       "2197   0   0   0   0   0   0   0   0   0   1  ...   0   0   0   0   0   0   0   \n",
       "2198   0   0   0   0   0   0   0   0   0   1  ...   0   0   0   0   0   0   0   \n",
       "2199   0   0   0   0   0   0   0   0   0   1  ...   0   0   0   0   0   0   0   \n",
       "2200   0   0   0   0   0   0   0   0   0   1  ...   0   0   0   0   0   0   0   \n",
       "2201   0   0   0   0   0   0   0   0   0   1  ...   0   0   0   0   0   0   0   \n",
       "\n",
       "      VS  ZG  ZH  \n",
       "0      0   0   1  \n",
       "1      0   0   1  \n",
       "2      0   0   1  \n",
       "3      0   0   1  \n",
       "4      0   0   1  \n",
       "...   ..  ..  ..  \n",
       "2197   0   0   0  \n",
       "2198   0   0   0  \n",
       "2199   0   0   0  \n",
       "2200   0   0   0  \n",
       "2201   0   0   0  \n",
       "\n",
       "[2191 rows x 25 columns]"
      ]
     },
     "execution_count": 73,
     "metadata": {},
     "output_type": "execute_result"
    }
   ],
   "source": [
    "canton_matrix"
   ]
  },
  {
   "cell_type": "code",
   "execution_count": 75,
   "id": "3d282585-2c3b-4b0d-83d0-4d05261caf2f",
   "metadata": {},
   "outputs": [
    {
     "name": "stdout",
     "output_type": "stream",
     "text": [
      "<class 'pandas.core.frame.DataFrame'>\n"
     ]
    }
   ],
   "source": [
    "print(type(canton_matrix))"
   ]
  }
 ],
 "metadata": {
  "kernelspec": {
   "display_name": "Python 3 (ipykernel)",
   "language": "python",
   "name": "python3"
  },
  "language_info": {
   "codemirror_mode": {
    "name": "ipython",
    "version": 3
   },
   "file_extension": ".py",
   "mimetype": "text/x-python",
   "name": "python",
   "nbconvert_exporter": "python",
   "pygments_lexer": "ipython3",
   "version": "3.9.7"
  }
 },
 "nbformat": 4,
 "nbformat_minor": 5
}
